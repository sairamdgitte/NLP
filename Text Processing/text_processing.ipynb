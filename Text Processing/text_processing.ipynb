{
 "cells": [
  {
   "cell_type": "markdown",
   "metadata": {},
   "source": [
    "# Text Processing\n",
    "\n",
    "## Capturing Text Data\n",
    "\n",
    "### Plain Text"
   ]
  },
  {
   "cell_type": "code",
   "execution_count": 1,
   "metadata": {},
   "outputs": [
    {
     "name": "stdout",
     "output_type": "stream",
     "text": [
      "Hieroglyphic writing dates from c. 3000 BC, and is composed of hundreds of symbols. A hieroglyph can represent a word, a sound, or a silent determinative; and the same symbol can serve different purposes in different contexts. Hieroglyphs were a formal script, used on stone monuments and in tombs, that could be as detailed as individual works of art.\n",
      "\n"
     ]
    }
   ],
   "source": [
    "import os\n",
    "\n",
    "# Read in a plain text file\n",
    "with open(os.path.join(\"data\", \"hieroglyph.txt\"), \"r\") as f:\n",
    "    text = f.read()\n",
    "    print(text)"
   ]
  },
  {
   "cell_type": "markdown",
   "metadata": {},
   "source": [
    "### Tabular Data"
   ]
  },
  {
   "cell_type": "code",
   "execution_count": 2,
   "metadata": {
    "scrolled": true
   },
   "outputs": [
    {
     "data": {
      "text/html": [
       "<div>\n",
       "<style scoped>\n",
       "    .dataframe tbody tr th:only-of-type {\n",
       "        vertical-align: middle;\n",
       "    }\n",
       "\n",
       "    .dataframe tbody tr th {\n",
       "        vertical-align: top;\n",
       "    }\n",
       "\n",
       "    .dataframe thead th {\n",
       "        text-align: right;\n",
       "    }\n",
       "</style>\n",
       "<table border=\"1\" class=\"dataframe\">\n",
       "  <thead>\n",
       "    <tr style=\"text-align: right;\">\n",
       "      <th></th>\n",
       "      <th>publisher</th>\n",
       "      <th>title</th>\n",
       "    </tr>\n",
       "  </thead>\n",
       "  <tbody>\n",
       "    <tr>\n",
       "      <th>0</th>\n",
       "      <td>Livemint</td>\n",
       "      <td>fed's charles plosser sees high bar for change...</td>\n",
       "    </tr>\n",
       "    <tr>\n",
       "      <th>1</th>\n",
       "      <td>IFA Magazine</td>\n",
       "      <td>us open: stocks fall after fed official hints ...</td>\n",
       "    </tr>\n",
       "    <tr>\n",
       "      <th>2</th>\n",
       "      <td>IFA Magazine</td>\n",
       "      <td>fed risks falling 'behind the curve', charles ...</td>\n",
       "    </tr>\n",
       "    <tr>\n",
       "      <th>3</th>\n",
       "      <td>Moneynews</td>\n",
       "      <td>fed's plosser: nasty weather has curbed job gr...</td>\n",
       "    </tr>\n",
       "    <tr>\n",
       "      <th>4</th>\n",
       "      <td>NASDAQ</td>\n",
       "      <td>plosser: fed may have to accelerate tapering pace</td>\n",
       "    </tr>\n",
       "  </tbody>\n",
       "</table>\n",
       "</div>"
      ],
      "text/plain": [
       "      publisher                                              title\n",
       "0      Livemint  fed's charles plosser sees high bar for change...\n",
       "1  IFA Magazine  us open: stocks fall after fed official hints ...\n",
       "2  IFA Magazine  fed risks falling 'behind the curve', charles ...\n",
       "3     Moneynews  fed's plosser: nasty weather has curbed job gr...\n",
       "4        NASDAQ  plosser: fed may have to accelerate tapering pace"
      ]
     },
     "execution_count": 2,
     "metadata": {},
     "output_type": "execute_result"
    }
   ],
   "source": [
    "import pandas as pd\n",
    "\n",
    "# Extract text column from a dataframe\n",
    "df = pd.read_csv(os.path.join(\"data\", \"news.csv\"))\n",
    "df.head()[['publisher', 'title']]\n",
    "\n",
    "# Convert text column to lowercase\n",
    "df['title'] = df['title'].str.lower()\n",
    "df.head()[['publisher', 'title']]"
   ]
  },
  {
   "cell_type": "code",
   "execution_count": null,
   "metadata": {},
   "outputs": [],
   "source": []
  },
  {
   "cell_type": "markdown",
   "metadata": {},
   "source": [
    "### Online Resource"
   ]
  },
  {
   "cell_type": "code",
   "execution_count": 4,
   "metadata": {
    "scrolled": true
   },
   "outputs": [
    {
     "name": "stdout",
     "output_type": "stream",
     "text": [
      "{\n",
      "    \"success\": {\n",
      "        \"total\": 1\n",
      "    },\n",
      "    \"contents\": {\n",
      "        \"quotes\": [\n",
      "            {\n",
      "                \"quote\": \"Our words are buttressed by our deeds, and our deeds are inspired by our convictions.\",\n",
      "                \"length\": \"85\",\n",
      "                \"author\": \"Theodore Hesburgh\",\n",
      "                \"tags\": [\n",
      "                    \"conviction\",\n",
      "                    \"deed\",\n",
      "                    \"inspire\"\n",
      "                ],\n",
      "                \"category\": \"inspire\",\n",
      "                \"language\": \"en\",\n",
      "                \"date\": \"2021-07-10\",\n",
      "                \"permalink\": \"https://theysaidso.com/quote/theodore-hesburgh-our-words-are-buttressed-by-our-deeds-and-our-deeds-are-inspir\",\n",
      "                \"id\": \"abOiOZ1mvAntbk4JjR2lvweF\",\n",
      "                \"background\": \"https://theysaidso.com/img/qod/qod-inspire.jpg\",\n",
      "                \"title\": \"Inspiring Quote of the day\"\n",
      "            }\n",
      "        ]\n",
      "    },\n",
      "    \"baseurl\": \"https://theysaidso.com\",\n",
      "    \"copyright\": {\n",
      "        \"year\": 2023,\n",
      "        \"url\": \"https://theysaidso.com\"\n",
      "    }\n",
      "}\n",
      "Our words are buttressed by our deeds, and our deeds are inspired by our convictions. \n",
      "-- Theodore Hesburgh\n"
     ]
    }
   ],
   "source": [
    "import requests\n",
    "import json\n",
    "\n",
    "# Fetch data from a REST API\n",
    "r = requests.get(\n",
    "    \"https://quotes.rest/qod.json\")\n",
    "res = r.json()\n",
    "print(json.dumps(res, indent=4))\n",
    "\n",
    "# Extract relevant object and field\n",
    "q = res[\"contents\"][\"quotes\"][0]\n",
    "print(q[\"quote\"], \"\\n--\", q[\"author\"])"
   ]
  },
  {
   "cell_type": "markdown",
   "metadata": {},
   "source": [
    "## Cleaning"
   ]
  },
  {
   "cell_type": "code",
   "execution_count": 5,
   "metadata": {
    "scrolled": true
   },
   "outputs": [
    {
     "name": "stdout",
     "output_type": "stream",
     "text": [
      "<html lang=\"en\" op=\"news\"><head><meta name=\"referrer\" content=\"origin\"><meta name=\"viewport\" content=\"width=device-width, initial-scale=1.0\"><link rel=\"stylesheet\" type=\"text/css\" href=\"news.css?u5J2AhZiIQCLx65l5EdP\">\n",
      "        <link rel=\"shortcut icon\" href=\"favicon.ico\">\n",
      "          <link rel=\"alternate\" type=\"application/rss+xml\" title=\"RSS\" href=\"rss\">\n",
      "        <title>Hacker News</title></head><body><center><table id=\"hnmain\" border=\"0\" cellpadding=\"0\" cellspacing=\"0\" width=\"85%\" bgcolor=\"#f6f6ef\">\n",
      "        <tr><td bgcolor=\"#ff6600\"><table border=\"0\" cellpadding=\"0\" cellspacing=\"0\" width=\"100%\" style=\"padding:2px\"><tr><td style=\"width:18px;padding-right:4px\"><a href=\"https://news.ycombinator.com\"><img src=\"y18.gif\" width=\"18\" height=\"18\" style=\"border:1px white solid;\"></a></td>\n",
      "                  <td style=\"line-height:12pt; height:10px;\"><span class=\"pagetop\"><b class=\"hnname\"><a href=\"news\">Hacker News</a></b>\n",
      "              <a href=\"newest\">new</a> | <a href=\"front\">past</a> | <a href=\"newcomments\">comments</a> | <a href=\"ask\">ask</a> | <a href=\"show\">show</a> | <a href=\"jobs\">jobs</a> | <a href=\"submit\">submit</a>            </span></td><td style=\"text-align:right;padding-right:4px;\"><span class=\"pagetop\">\n",
      "                              <a href=\"login?goto=news\">login</a>\n",
      "                          </span></td>\n",
      "              </tr></table></td></tr>\n",
      "<tr id=\"pagespace\" title=\"\" style=\"height:10px\"></tr><tr><td><table border=\"0\" cellpadding=\"0\" cellspacing=\"0\" class=\"itemlist\">\n",
      "              <tr class='athing' id='27792738'>\n",
      "      <td align=\"right\" valign=\"top\" class=\"title\"><span class=\"rank\">1.</span></td>      <td valign=\"top\" class=\"votelinks\"><center><a id='up_27792738' href='vote?id=27792738&amp;how=up&amp;goto=news'><div class='votearrow' title='upvote'></div></a></center></td><td class=\"title\"><a href=\"https://michael.stapelberg.ch/posts/2021-07-10-linux-25gbit-internet-router-pc-build/\" class=\"storylink\">25 Gigabit Linux internet router PC build</a><span class=\"sitebit comhead\"> (<a href=\"from?site=stapelberg.ch\"><span class=\"sitestr\">stapelberg.ch</span></a>)</span></td></tr><tr><td colspan=\"2\"></td><td class=\"subtext\">\n",
      "        <span class=\"score\" id=\"score_27792738\">29 points</span> by <a href=\"user?id=secure\" class=\"hnuser\">secure</a> <span class=\"age\" title=\"2021-07-10T11:49:36\"><a href=\"item?id=27792738\">21 minutes ago</a></span> <span id=\"unv_27792738\"></span> | <a href=\"hide?id=27792738&amp;goto=news\">hide</a> | <a href=\"item?id=27792738\">4&nbsp;comments</a>              </td></tr>\n",
      "      <tr class=\"spacer\" style=\"height:5px\"></tr>\n",
      "                <tr class='athing' id='27789697'>\n",
      "      <td align=\"right\" valign=\"top\" class=\"title\"><span class=\"rank\">2.</span></td>      <td valign=\"top\" class=\"votelinks\"><center><a id='up_27789697' href='vote?id=27789697&amp;how=up&amp;goto=news'><div class='votearrow' title='upvote'></div></a></center></td><td class=\"title\"><a href=\"https://github.com/romeovs/creep\" class=\"storylink\">Creep – a pretty sweet 4px wide pixel font</a><span class=\"sitebit comhead\"> (<a href=\"from?site=github.com/romeovs\"><span class=\"sitestr\">github.com/romeovs</span></a>)</span></td></tr><tr><td colspan=\"2\"></td><td class=\"subtext\">\n",
      "        <span class=\"score\" id=\"score_27789697\">390 points</span> by <a href=\"user?id=pabs3\" class=\"hnuser\">pabs3</a> <span class=\"age\" title=\"2021-07-09T23:39:55\"><a href=\"item?id=27789697\">12 hours ago</a></span> <span id=\"unv_27789697\"></span> | <a href=\"hide?id=27789697&amp;goto=news\">hide</a> | <a href=\"item?id=27789697\">80&nbsp;comments</a>              </td></tr>\n",
      "      <tr class=\"spacer\" style=\"height:5px\"></tr>\n",
      "                <tr class='athing' id='27781146'>\n",
      "      <td align=\"right\" valign=\"top\" class=\"title\"><span class=\"rank\">3.</span></td>      <td valign=\"top\" class=\"votelinks\"><center><a id='up_27781146' href='vote?id=27781146&amp;how=up&amp;goto=news'><div class='votearrow' title='upvote'></div></a></center></td><td class=\"title\"><a href=\"https://www.dq-int.co.uk/blog/seagate-barracuda-ramp-weakness/\" class=\"storylink\">Seagate Barracuda Ramp Weakness</a><span class=\"sitebit comhead\"> (<a href=\"from?site=dq-int.co.uk\"><span class=\"sitestr\">dq-int.co.uk</span></a>)</span></td></tr><tr><td colspan=\"2\"></td><td class=\"subtext\">\n",
      "        <span class=\"score\" id=\"score_27781146\">89 points</span> by <a href=\"user?id=doener\" class=\"hnuser\">doener</a> <span class=\"age\" title=\"2021-07-09T07:02:39\"><a href=\"item?id=27781146\">8 hours ago</a></span> <span id=\"unv_27781146\"></span> | <a href=\"hide?id=27781146&amp;goto=news\">hide</a> | <a href=\"item?id=27781146\">13&nbsp;comments</a>              </td></tr>\n",
      "      <tr class=\"spacer\" style=\"height:5px\"></tr>\n",
      "                <tr class='athing' id='27791539'>\n",
      "      <td align=\"right\" valign=\"top\" class=\"title\"><span class=\"rank\">4.</span></td>      <td valign=\"top\" class=\"votelinks\"><center><a id='up_27791539' href='vote?id=27791539&amp;how=up&amp;goto=news'><div class='votearrow' title='upvote'></div></a></center></td><td class=\"title\"><a href=\"https://scattered-thoughts.net/writing/against-sql/\" class=\"storylink\">Against SQL</a><span class=\"sitebit comhead\"> (<a href=\"from?site=scattered-thoughts.net\"><span class=\"sitestr\">scattered-thoughts.net</span></a>)</span></td></tr><tr><td colspan=\"2\"></td><td class=\"subtext\">\n",
      "        <span class=\"score\" id=\"score_27791539\">257 points</span> by <a href=\"user?id=deafcalculus\" class=\"hnuser\">deafcalculus</a> <span class=\"age\" title=\"2021-07-10T06:25:50\"><a href=\"item?id=27791539\">5 hours ago</a></span> <span id=\"unv_27791539\"></span> | <a href=\"hide?id=27791539&amp;goto=news\">hide</a> | <a href=\"item?id=27791539\">190&nbsp;comments</a>              </td></tr>\n",
      "      <tr class=\"spacer\" style=\"height:5px\"></tr>\n",
      "                <tr class='athing' id='27780899'>\n",
      "      <td align=\"right\" valign=\"top\" class=\"title\"><span class=\"rank\">5.</span></td>      <td valign=\"top\" class=\"votelinks\"><center><a id='up_27780899' href='vote?id=27780899&amp;how=up&amp;goto=news'><div class='votearrow' title='upvote'></div></a></center></td><td class=\"title\"><a href=\"https://www.theguardian.com/environment/2021/jul/09/beetle-that-can-walk-upside-down-under-water-surface-filmed-in-australia-in-world-first\" class=\"storylink\">Beetle walking upside down under water surface filmed in Australia</a><span class=\"sitebit comhead\"> (<a href=\"from?site=theguardian.com\"><span class=\"sitestr\">theguardian.com</span></a>)</span></td></tr><tr><td colspan=\"2\"></td><td class=\"subtext\">\n",
      "        <span class=\"score\" id=\"score_27780899\">95 points</span> by <a href=\"user?id=namu-313\" class=\"hnuser\">namu-313</a> <span class=\"age\" title=\"2021-07-09T06:11:53\"><a href=\"item?id=27780899\">8 hours ago</a></span> <span id=\"unv_27780899\"></span> | <a href=\"hide?id=27780899&amp;goto=news\">hide</a> | <a href=\"item?id=27780899\">19&nbsp;comments</a>              </td></tr>\n",
      "      <tr class=\"spacer\" style=\"height:5px\"></tr>\n",
      "                <tr class='athing' id='27792786'>\n",
      "      <td align=\"right\" valign=\"top\" class=\"title\"><span class=\"rank\">6.</span></td>      <td></td><td class=\"title\"><a href=\"https://www.notion.so/magicbell/Founding-Frontend-Engineer-Fully-Remote-5d6c0eceed334d6e95f71dec6167453c\" class=\"storylink\" rel=\"nofollow\">MagicBell (YC W21) Is Hiring a Founding Front End Engineer (Remote)</a><span class=\"sitebit comhead\"> (<a href=\"from?site=notion.so\"><span class=\"sitestr\">notion.so</span></a>)</span></td></tr><tr><td colspan=\"2\"></td><td class=\"subtext\">\n",
      "        <span class=\"age\" title=\"2021-07-10T12:01:08\"><a href=\"item?id=27792786\">10 minutes ago</a></span> | <a href=\"hide?id=27792786&amp;goto=news\">hide</a>      </td></tr>\n",
      "      <tr class=\"spacer\" style=\"height:5px\"></tr>\n",
      "                <tr class='athing' id='27792683'>\n",
      "      <td align=\"right\" valign=\"top\" class=\"title\"><span class=\"rank\">7.</span></td>      <td valign=\"top\" class=\"votelinks\"><center><a id='up_27792683' href='vote?id=27792683&amp;how=up&amp;goto=news'><div class='votearrow' title='upvote'></div></a></center></td><td class=\"title\"><a href=\"https://www.reddit.com/r/AskEngineers/comments/oh0vt0/how_safe_is_the_colin_furzes_tunnel/\" class=\"storylink\">How safe is Colin Furze's tunnel?</a><span class=\"sitebit comhead\"> (<a href=\"from?site=reddit.com\"><span class=\"sitestr\">reddit.com</span></a>)</span></td></tr><tr><td colspan=\"2\"></td><td class=\"subtext\">\n",
      "        <span class=\"score\" id=\"score_27792683\">13 points</span> by <a href=\"user?id=rwmj\" class=\"hnuser\">rwmj</a> <span class=\"age\" title=\"2021-07-10T11:36:50\"><a href=\"item?id=27792683\">34 minutes ago</a></span> <span id=\"unv_27792683\"></span> | <a href=\"hide?id=27792683&amp;goto=news\">hide</a> | <a href=\"item?id=27792683\">1&nbsp;comment</a>              </td></tr>\n",
      "      <tr class=\"spacer\" style=\"height:5px\"></tr>\n",
      "                <tr class='athing' id='27780527'>\n",
      "      <td align=\"right\" valign=\"top\" class=\"title\"><span class=\"rank\">8.</span></td>      <td valign=\"top\" class=\"votelinks\"><center><a id='up_27780527' href='vote?id=27780527&amp;how=up&amp;goto=news'><div class='votearrow' title='upvote'></div></a></center></td><td class=\"title\"><a href=\"https://forkeepspodcast.com/71-kmart-in-store-music-tapes-saved-by-mark-davis\" class=\"storylink\">Kmart In-Store Music Tapes [audio]</a><span class=\"sitebit comhead\"> (<a href=\"from?site=forkeepspodcast.com\"><span class=\"sitestr\">forkeepspodcast.com</span></a>)</span></td></tr><tr><td colspan=\"2\"></td><td class=\"subtext\">\n",
      "        <span class=\"score\" id=\"score_27780527\">95 points</span> by <a href=\"user?id=niedzielski\" class=\"hnuser\">niedzielski</a> <span class=\"age\" title=\"2021-07-09T04:38:52\"><a href=\"item?id=27780527\">10 hours ago</a></span> <span id=\"unv_27780527\"></span> | <a href=\"hide?id=27780527&amp;goto=news\">hide</a> | <a href=\"item?id=27780527\">8&nbsp;comments</a>              </td></tr>\n",
      "      <tr class=\"spacer\" style=\"height:5px\"></tr>\n",
      "                <tr class='athing' id='27788238'>\n",
      "      <td align=\"right\" valign=\"top\" class=\"title\"><span class=\"rank\">9.</span></td>      <td valign=\"top\" class=\"votelinks\"><center><a id='up_27788238' href='vote?id=27788238&amp;how=up&amp;goto=news'><div class='votearrow' title='upvote'></div></a></center></td><td class=\"title\"><a href=\"https://github.com/not-an-aardvark/every-git-commit-shorthash\" class=\"storylink\">Generate a Git repository with 2^28 commits—one for every 7-character shorthash</a><span class=\"sitebit comhead\"> (<a href=\"from?site=github.com/not-an-aardvark\"><span class=\"sitestr\">github.com/not-an-aardvark</span></a>)</span></td></tr><tr><td colspan=\"2\"></td><td class=\"subtext\">\n",
      "        <span class=\"score\" id=\"score_27788238\">208 points</span> by <a href=\"user?id=breck\" class=\"hnuser\">breck</a> <span class=\"age\" title=\"2021-07-09T20:39:49\"><a href=\"item?id=27788238\">15 hours ago</a></span> <span id=\"unv_27788238\"></span> | <a href=\"hide?id=27788238&amp;goto=news\">hide</a> | <a href=\"item?id=27788238\">65&nbsp;comments</a>              </td></tr>\n",
      "      <tr class=\"spacer\" style=\"height:5px\"></tr>\n",
      "                <tr class='athing' id='27787604'>\n",
      "      <td align=\"right\" valign=\"top\" class=\"title\"><span class=\"rank\">10.</span></td>      <td valign=\"top\" class=\"votelinks\"><center><a id='up_27787604' href='vote?id=27787604&amp;how=up&amp;goto=news'><div class='votearrow' title='upvote'></div></a></center></td><td class=\"title\"><a href=\"https://daedtech.com/programmers-teach-non-geeks-the-true-cost-of-interruptions/\" class=\"storylink\">Programmers, teach non-geeks the true cost of interruptions (2014)</a><span class=\"sitebit comhead\"> (<a href=\"from?site=daedtech.com\"><span class=\"sitestr\">daedtech.com</span></a>)</span></td></tr><tr><td colspan=\"2\"></td><td class=\"subtext\">\n",
      "        <span class=\"score\" id=\"score_27787604\">225 points</span> by <a href=\"user?id=davikrr\" class=\"hnuser\">davikrr</a> <span class=\"age\" title=\"2021-07-09T19:32:02\"><a href=\"item?id=27787604\">16 hours ago</a></span> <span id=\"unv_27787604\"></span> | <a href=\"hide?id=27787604&amp;goto=news\">hide</a> | <a href=\"item?id=27787604\">200&nbsp;comments</a>              </td></tr>\n",
      "      <tr class=\"spacer\" style=\"height:5px\"></tr>\n",
      "                <tr class='athing' id='27791817'>\n",
      "      <td align=\"right\" valign=\"top\" class=\"title\"><span class=\"rank\">11.</span></td>      <td valign=\"top\" class=\"votelinks\"><center><a id='up_27791817' href='vote?id=27791817&amp;how=up&amp;goto=news'><div class='votearrow' title='upvote'></div></a></center></td><td class=\"title\"><a href=\"https://en.wikipedia.org/wiki/Zygalski_sheets\" class=\"storylink\">Zygalski Sheets</a><span class=\"sitebit comhead\"> (<a href=\"from?site=wikipedia.org\"><span class=\"sitestr\">wikipedia.org</span></a>)</span></td></tr><tr><td colspan=\"2\"></td><td class=\"subtext\">\n",
      "        <span class=\"score\" id=\"score_27791817\">13 points</span> by <a href=\"user?id=benbreen\" class=\"hnuser\">benbreen</a> <span class=\"age\" title=\"2021-07-10T07:37:02\"><a href=\"item?id=27791817\">4 hours ago</a></span> <span id=\"unv_27791817\"></span> | <a href=\"hide?id=27791817&amp;goto=news\">hide</a> | <a href=\"item?id=27791817\">1&nbsp;comment</a>              </td></tr>\n",
      "      <tr class=\"spacer\" style=\"height:5px\"></tr>\n",
      "                <tr class='athing' id='27778689'>\n",
      "      <td align=\"right\" valign=\"top\" class=\"title\"><span class=\"rank\">12.</span></td>      <td valign=\"top\" class=\"votelinks\"><center><a id='up_27778689' href='vote?id=27778689&amp;how=up&amp;goto=news'><div class='votearrow' title='upvote'></div></a></center></td><td class=\"title\"><a href=\"https://slate.com/human-interest/2021/07/cat-person-kristen-roupenian-viral-story-about-me.html\" class=\"storylink\">“Cat Person” and Me</a><span class=\"sitebit comhead\"> (<a href=\"from?site=slate.com\"><span class=\"sitestr\">slate.com</span></a>)</span></td></tr><tr><td colspan=\"2\"></td><td class=\"subtext\">\n",
      "        <span class=\"score\" id=\"score_27778689\">147 points</span> by <a href=\"user?id=jasonhansel\" class=\"hnuser\">jasonhansel</a> <span class=\"age\" title=\"2021-07-08T23:03:59\"><a href=\"item?id=27778689\">12 hours ago</a></span> <span id=\"unv_27778689\"></span> | <a href=\"hide?id=27778689&amp;goto=news\">hide</a> | <a href=\"item?id=27778689\">110&nbsp;comments</a>              </td></tr>\n",
      "      <tr class=\"spacer\" style=\"height:5px\"></tr>\n",
      "                <tr class='athing' id='27791447'>\n",
      "      <td align=\"right\" valign=\"top\" class=\"title\"><span class=\"rank\">13.</span></td>      <td valign=\"top\" class=\"votelinks\"><center><a id='up_27791447' href='vote?id=27791447&amp;how=up&amp;goto=news'><div class='votearrow' title='upvote'></div></a></center></td><td class=\"title\"><a href=\"https://twitter.com/eric_khun/status/1413724571765809152\" class=\"storylink\">80% of my traffic is excluded from Google Analytics</a><span class=\"sitebit comhead\"> (<a href=\"from?site=twitter.com/eric_khun\"><span class=\"sitestr\">twitter.com/eric_khun</span></a>)</span></td></tr><tr><td colspan=\"2\"></td><td class=\"subtext\">\n",
      "        <span class=\"score\" id=\"score_27791447\">122 points</span> by <a href=\"user?id=eric_khun\" class=\"hnuser\">eric_khun</a> <span class=\"age\" title=\"2021-07-10T05:57:19\"><a href=\"item?id=27791447\">6 hours ago</a></span> <span id=\"unv_27791447\"></span> | <a href=\"hide?id=27791447&amp;goto=news\">hide</a> | <a href=\"item?id=27791447\">95&nbsp;comments</a>              </td></tr>\n",
      "      <tr class=\"spacer\" style=\"height:5px\"></tr>\n",
      "                <tr class='athing' id='27789910'>\n",
      "      <td align=\"right\" valign=\"top\" class=\"title\"><span class=\"rank\">14.</span></td>      <td valign=\"top\" class=\"votelinks\"><center><a id='up_27789910' href='vote?id=27789910&amp;how=up&amp;goto=news'><div class='votearrow' title='upvote'></div></a></center></td><td class=\"title\"><a href=\"https://www.httrack.com/\" class=\"storylink\">HTTrack Website Copier – Free Software Offline Browser (GNU GPL)</a><span class=\"sitebit comhead\"> (<a href=\"from?site=httrack.com\"><span class=\"sitestr\">httrack.com</span></a>)</span></td></tr><tr><td colspan=\"2\"></td><td class=\"subtext\">\n",
      "        <span class=\"score\" id=\"score_27789910\">85 points</span> by <a href=\"user?id=evo_9\" class=\"hnuser\">evo_9</a> <span class=\"age\" title=\"2021-07-10T00:18:19\"><a href=\"item?id=27789910\">11 hours ago</a></span> <span id=\"unv_27789910\"></span> | <a href=\"hide?id=27789910&amp;goto=news\">hide</a> | <a href=\"item?id=27789910\">26&nbsp;comments</a>              </td></tr>\n",
      "      <tr class=\"spacer\" style=\"height:5px\"></tr>\n",
      "                <tr class='athing' id='27789101'>\n",
      "      <td align=\"right\" valign=\"top\" class=\"title\"><span class=\"rank\">15.</span></td>      <td valign=\"top\" class=\"votelinks\"><center><a id='up_27789101' href='vote?id=27789101&amp;how=up&amp;goto=news'><div class='votearrow' title='upvote'></div></a></center></td><td class=\"title\"><a href=\"https://blog.teddykatz.com/2019/11/12/github-actions-dos.html\" class=\"storylink\">How I accidentally took down GitHub Actions (2019)</a><span class=\"sitebit comhead\"> (<a href=\"from?site=teddykatz.com\"><span class=\"sitestr\">teddykatz.com</span></a>)</span></td></tr><tr><td colspan=\"2\"></td><td class=\"subtext\">\n",
      "        <span class=\"score\" id=\"score_27789101\">122 points</span> by <a href=\"user?id=l1n\" class=\"hnuser\">l1n</a> <span class=\"age\" title=\"2021-07-09T22:12:34\"><a href=\"item?id=27789101\">13 hours ago</a></span> <span id=\"unv_27789101\"></span> | <a href=\"hide?id=27789101&amp;goto=news\">hide</a> | <a href=\"item?id=27789101\">13&nbsp;comments</a>              </td></tr>\n",
      "      <tr class=\"spacer\" style=\"height:5px\"></tr>\n",
      "                <tr class='athing' id='27783793'>\n",
      "      <td align=\"right\" valign=\"top\" class=\"title\"><span class=\"rank\">16.</span></td>      <td valign=\"top\" class=\"votelinks\"><center><a id='up_27783793' href='vote?id=27783793&amp;how=up&amp;goto=news'><div class='votearrow' title='upvote'></div></a></center></td><td class=\"title\"><a href=\"https://arxiv.org/abs/2107.03832\" class=\"storylink\">Serverless Computing: A Security Perspective</a><span class=\"sitebit comhead\"> (<a href=\"from?site=arxiv.org\"><span class=\"sitestr\">arxiv.org</span></a>)</span></td></tr><tr><td colspan=\"2\"></td><td class=\"subtext\">\n",
      "        <span class=\"score\" id=\"score_27783793\">39 points</span> by <a href=\"user?id=belter\" class=\"hnuser\">belter</a> <span class=\"age\" title=\"2021-07-09T14:06:42\"><a href=\"item?id=27783793\">9 hours ago</a></span> <span id=\"unv_27783793\"></span> | <a href=\"hide?id=27783793&amp;goto=news\">hide</a> | <a href=\"item?id=27783793\">2&nbsp;comments</a>              </td></tr>\n",
      "      <tr class=\"spacer\" style=\"height:5px\"></tr>\n",
      "                <tr class='athing' id='27792391'>\n",
      "      <td align=\"right\" valign=\"top\" class=\"title\"><span class=\"rank\">17.</span></td>      <td valign=\"top\" class=\"votelinks\"><center><a id='up_27792391' href='vote?id=27792391&amp;how=up&amp;goto=news'><div class='votearrow' title='upvote'></div></a></center></td><td class=\"title\"><a href=\"https://justinjackson.ca/the-coupon-code-is-a-slap-in-the-face\" class=\"storylink\">The coupon code is a slap in the face (2011)</a><span class=\"sitebit comhead\"> (<a href=\"from?site=justinjackson.ca\"><span class=\"sitestr\">justinjackson.ca</span></a>)</span></td></tr><tr><td colspan=\"2\"></td><td class=\"subtext\">\n",
      "        <span class=\"score\" id=\"score_27792391\">19 points</span> by <a href=\"user?id=amzans\" class=\"hnuser\">amzans</a> <span class=\"age\" title=\"2021-07-10T10:10:42\"><a href=\"item?id=27792391\">2 hours ago</a></span> <span id=\"unv_27792391\"></span> | <a href=\"hide?id=27792391&amp;goto=news\">hide</a> | <a href=\"item?id=27792391\">3&nbsp;comments</a>              </td></tr>\n",
      "      <tr class=\"spacer\" style=\"height:5px\"></tr>\n",
      "                <tr class='athing' id='27782086'>\n",
      "      <td align=\"right\" valign=\"top\" class=\"title\"><span class=\"rank\">18.</span></td>      <td valign=\"top\" class=\"votelinks\"><center><a id='up_27782086' href='vote?id=27782086&amp;how=up&amp;goto=news'><div class='votearrow' title='upvote'></div></a></center></td><td class=\"title\"><a href=\"https://www.atlasobscura.com/articles/reindeer-in-the-southern-hemisphere\" class=\"storylink\" rel=\"nofollow\">The Saga of the Reindeer of South Georgia Island</a><span class=\"sitebit comhead\"> (<a href=\"from?site=atlasobscura.com\"><span class=\"sitestr\">atlasobscura.com</span></a>)</span></td></tr><tr><td colspan=\"2\"></td><td class=\"subtext\">\n",
      "        <span class=\"score\" id=\"score_27782086\">6 points</span> by <a href=\"user?id=aww_dang\" class=\"hnuser\">aww_dang</a> <span class=\"age\" title=\"2021-07-09T09:56:10\"><a href=\"item?id=27782086\">3 hours ago</a></span> <span id=\"unv_27782086\"></span> | <a href=\"hide?id=27782086&amp;goto=news\">hide</a> | <a href=\"item?id=27782086\">discuss</a>              </td></tr>\n",
      "      <tr class=\"spacer\" style=\"height:5px\"></tr>\n",
      "                <tr class='athing' id='27781243'>\n",
      "      <td align=\"right\" valign=\"top\" class=\"title\"><span class=\"rank\">19.</span></td>      <td valign=\"top\" class=\"votelinks\"><center><a id='up_27781243' href='vote?id=27781243&amp;how=up&amp;goto=news'><div class='votearrow' title='upvote'></div></a></center></td><td class=\"title\"><a href=\"https://www.sicpers.info/2021/07/my-proposal-for-scaling-open-source-dont/\" class=\"storylink\">My proposal for scaling open source: don’t</a><span class=\"sitebit comhead\"> (<a href=\"from?site=sicpers.info\"><span class=\"sitestr\">sicpers.info</span></a>)</span></td></tr><tr><td colspan=\"2\"></td><td class=\"subtext\">\n",
      "        <span class=\"score\" id=\"score_27781243\">81 points</span> by <a href=\"user?id=mpweiher\" class=\"hnuser\">mpweiher</a> <span class=\"age\" title=\"2021-07-09T07:22:08\"><a href=\"item?id=27781243\">12 hours ago</a></span> <span id=\"unv_27781243\"></span> | <a href=\"hide?id=27781243&amp;goto=news\">hide</a> | <a href=\"item?id=27781243\">16&nbsp;comments</a>              </td></tr>\n",
      "      <tr class=\"spacer\" style=\"height:5px\"></tr>\n",
      "                <tr class='athing' id='27781377'>\n",
      "      <td align=\"right\" valign=\"top\" class=\"title\"><span class=\"rank\">20.</span></td>      <td valign=\"top\" class=\"votelinks\"><center><a id='up_27781377' href='vote?id=27781377&amp;how=up&amp;goto=news'><div class='votearrow' title='upvote'></div></a></center></td><td class=\"title\"><a href=\"https://blog.feabhas.com/2021/07/cmake-part-1-the-dark-arts/\" class=\"storylink\">CMake Part 1 – The Dark Arts</a><span class=\"sitebit comhead\"> (<a href=\"from?site=feabhas.com\"><span class=\"sitestr\">feabhas.com</span></a>)</span></td></tr><tr><td colspan=\"2\"></td><td class=\"subtext\">\n",
      "        <span class=\"score\" id=\"score_27781377\">81 points</span> by <a href=\"user?id=baydonFlyer\" class=\"hnuser\">baydonFlyer</a> <span class=\"age\" title=\"2021-07-09T07:48:57\"><a href=\"item?id=27781377\">14 hours ago</a></span> <span id=\"unv_27781377\"></span> | <a href=\"hide?id=27781377&amp;goto=news\">hide</a> | <a href=\"item?id=27781377\">46&nbsp;comments</a>              </td></tr>\n",
      "      <tr class=\"spacer\" style=\"height:5px\"></tr>\n",
      "                <tr class='athing' id='27792621'>\n",
      "      <td align=\"right\" valign=\"top\" class=\"title\"><span class=\"rank\">21.</span></td>      <td valign=\"top\" class=\"votelinks\"><center><a id='up_27792621' href='vote?id=27792621&amp;how=up&amp;goto=news'><div class='votearrow' title='upvote'></div></a></center></td><td class=\"title\"><a href=\"https://threatpost.com/cisco-bpa-wsa-bugs-cyberattacks/167654/\" class=\"storylink\" rel=\"nofollow\">Cisco BPA, WSA Bugs Allow Remote Cyberattacks</a><span class=\"sitebit comhead\"> (<a href=\"from?site=threatpost.com\"><span class=\"sitestr\">threatpost.com</span></a>)</span></td></tr><tr><td colspan=\"2\"></td><td class=\"subtext\">\n",
      "        <span class=\"score\" id=\"score_27792621\">4 points</span> by <a href=\"user?id=billyharris\" class=\"hnuser\">billyharris</a> <span class=\"age\" title=\"2021-07-10T11:20:00\"><a href=\"item?id=27792621\">51 minutes ago</a></span> <span id=\"unv_27792621\"></span> | <a href=\"hide?id=27792621&amp;goto=news\">hide</a> | <a href=\"item?id=27792621\">discuss</a>              </td></tr>\n",
      "      <tr class=\"spacer\" style=\"height:5px\"></tr>\n",
      "                <tr class='athing' id='27781293'>\n",
      "      <td align=\"right\" valign=\"top\" class=\"title\"><span class=\"rank\">22.</span></td>      <td valign=\"top\" class=\"votelinks\"><center><a id='up_27781293' href='vote?id=27781293&amp;how=up&amp;goto=news'><div class='votearrow' title='upvote'></div></a></center></td><td class=\"title\"><a href=\"https://www.pri.org/stories/2021-05-06/small-town-sweden-fights-preserve-elfdalian-dying-forest-language\" class=\"storylink\">A small town in Sweden fights to preserve Elfdalian, a dying forest language</a><span class=\"sitebit comhead\"> (<a href=\"from?site=pri.org\"><span class=\"sitestr\">pri.org</span></a>)</span></td></tr><tr><td colspan=\"2\"></td><td class=\"subtext\">\n",
      "        <span class=\"score\" id=\"score_27781293\">176 points</span> by <a href=\"user?id=hashmush\" class=\"hnuser\">hashmush</a> <span class=\"age\" title=\"2021-07-09T07:30:25\"><a href=\"item?id=27781293\">15 hours ago</a></span> <span id=\"unv_27781293\"></span> | <a href=\"hide?id=27781293&amp;goto=news\">hide</a> | <a href=\"item?id=27781293\">173&nbsp;comments</a>              </td></tr>\n",
      "      <tr class=\"spacer\" style=\"height:5px\"></tr>\n",
      "                <tr class='athing' id='27785323'>\n",
      "      <td align=\"right\" valign=\"top\" class=\"title\"><span class=\"rank\">23.</span></td>      <td valign=\"top\" class=\"votelinks\"><center><a id='up_27785323' href='vote?id=27785323&amp;how=up&amp;goto=news'><div class='votearrow' title='upvote'></div></a></center></td><td class=\"title\"><a href=\"https://earthly.dev/\" class=\"storylink\">Show HN: Earthly – Better Builds</a><span class=\"sitebit comhead\"> (<a href=\"from?site=earthly.dev\"><span class=\"sitestr\">earthly.dev</span></a>)</span></td></tr><tr><td colspan=\"2\"></td><td class=\"subtext\">\n",
      "        <span class=\"score\" id=\"score_27785323\">200 points</span> by <a href=\"user?id=agbell\" class=\"hnuser\">agbell</a> <span class=\"age\" title=\"2021-07-09T16:21:10\"><a href=\"item?id=27785323\">19 hours ago</a></span> <span id=\"unv_27785323\"></span> | <a href=\"hide?id=27785323&amp;goto=news\">hide</a> | <a href=\"item?id=27785323\">67&nbsp;comments</a>              </td></tr>\n",
      "      <tr class=\"spacer\" style=\"height:5px\"></tr>\n",
      "                <tr class='athing' id='27780777'>\n",
      "      <td align=\"right\" valign=\"top\" class=\"title\"><span class=\"rank\">24.</span></td>      <td valign=\"top\" class=\"votelinks\"><center><a id='up_27780777' href='vote?id=27780777&amp;how=up&amp;goto=news'><div class='votearrow' title='upvote'></div></a></center></td><td class=\"title\"><a href=\"https://nicole.express/2021/fallin-in-a-pitfall.html\" class=\"storylink\" rel=\"nofollow\">Adaptation and Re-adaptation: The story of Pitfall II</a><span class=\"sitebit comhead\"> (<a href=\"from?site=nicole.express\"><span class=\"sitestr\">nicole.express</span></a>)</span></td></tr><tr><td colspan=\"2\"></td><td class=\"subtext\">\n",
      "        <span class=\"score\" id=\"score_27780777\">12 points</span> by <a href=\"user?id=headalgorithm\" class=\"hnuser\">headalgorithm</a> <span class=\"age\" title=\"2021-07-09T05:43:47\"><a href=\"item?id=27780777\">5 hours ago</a></span> <span id=\"unv_27780777\"></span> | <a href=\"hide?id=27780777&amp;goto=news\">hide</a> | <a href=\"item?id=27780777\">3&nbsp;comments</a>              </td></tr>\n",
      "      <tr class=\"spacer\" style=\"height:5px\"></tr>\n",
      "                <tr class='athing' id='27790723'>\n",
      "      <td align=\"right\" valign=\"top\" class=\"title\"><span class=\"rank\">25.</span></td>      <td valign=\"top\" class=\"votelinks\"><center><a id='up_27790723' href='vote?id=27790723&amp;how=up&amp;goto=news'><div class='votearrow' title='upvote'></div></a></center></td><td class=\"title\"><a href=\"https://arstechnica.com/?p=1779166\" class=\"storylink\">Cheating in FPS by using a second computer to move mouse</a><span class=\"sitebit comhead\"> (<a href=\"from?site=arstechnica.com\"><span class=\"sitestr\">arstechnica.com</span></a>)</span></td></tr><tr><td colspan=\"2\"></td><td class=\"subtext\">\n",
      "        <span class=\"score\" id=\"score_27790723\">131 points</span> by <a href=\"user?id=tarunupaday\" class=\"hnuser\">tarunupaday</a> <span class=\"age\" title=\"2021-07-10T02:46:57\"><a href=\"item?id=27790723\">9 hours ago</a></span> <span id=\"unv_27790723\"></span> | <a href=\"hide?id=27790723&amp;goto=news\">hide</a> | <a href=\"item?id=27790723\">89&nbsp;comments</a>              </td></tr>\n",
      "      <tr class=\"spacer\" style=\"height:5px\"></tr>\n",
      "                <tr class='athing' id='27765934'>\n",
      "      <td align=\"right\" valign=\"top\" class=\"title\"><span class=\"rank\">26.</span></td>      <td valign=\"top\" class=\"votelinks\"><center><a id='up_27765934' href='vote?id=27765934&amp;how=up&amp;goto=news'><div class='votearrow' title='upvote'></div></a></center></td><td class=\"title\"><a href=\"https://smallhacks.wordpress.com/2021/07/07/controlling-marantz-amplifier-using-arduino-via-remote-socket/\" class=\"storylink\">Controlling Marantz amplifier using Arduino via “Remote” socket</a><span class=\"sitebit comhead\"> (<a href=\"from?site=smallhacks.wordpress.com\"><span class=\"sitestr\">smallhacks.wordpress.com</span></a>)</span></td></tr><tr><td colspan=\"2\"></td><td class=\"subtext\">\n",
      "        <span class=\"score\" id=\"score_27765934\">60 points</span> by <a href=\"user?id=zdw\" class=\"hnuser\">zdw</a> <span class=\"age\" title=\"2021-07-07T21:30:16\"><a href=\"item?id=27765934\">16 hours ago</a></span> <span id=\"unv_27765934\"></span> | <a href=\"hide?id=27765934&amp;goto=news\">hide</a> | <a href=\"item?id=27765934\">21&nbsp;comments</a>              </td></tr>\n",
      "      <tr class=\"spacer\" style=\"height:5px\"></tr>\n",
      "                <tr class='athing' id='27776154'>\n",
      "      <td align=\"right\" valign=\"top\" class=\"title\"><span class=\"rank\">27.</span></td>      <td valign=\"top\" class=\"votelinks\"><center><a id='up_27776154' href='vote?id=27776154&amp;how=up&amp;goto=news'><div class='votearrow' title='upvote'></div></a></center></td><td class=\"title\"><a href=\"https://www.nytimes.com/2021/07/08/science/cauliflower-fractals.html\" class=\"storylink\">Cauliflower and Chaos, Fractals in Every Floret</a><span class=\"sitebit comhead\"> (<a href=\"from?site=nytimes.com\"><span class=\"sitestr\">nytimes.com</span></a>)</span></td></tr><tr><td colspan=\"2\"></td><td class=\"subtext\">\n",
      "        <span class=\"score\" id=\"score_27776154\">47 points</span> by <a href=\"user?id=gumby\" class=\"hnuser\">gumby</a> <span class=\"age\" title=\"2021-07-08T18:43:00\"><a href=\"item?id=27776154\">13 hours ago</a></span> <span id=\"unv_27776154\"></span> | <a href=\"hide?id=27776154&amp;goto=news\">hide</a> | <a href=\"item?id=27776154\">10&nbsp;comments</a>              </td></tr>\n",
      "      <tr class=\"spacer\" style=\"height:5px\"></tr>\n",
      "                <tr class='athing' id='27770968'>\n",
      "      <td align=\"right\" valign=\"top\" class=\"title\"><span class=\"rank\">28.</span></td>      <td valign=\"top\" class=\"votelinks\"><center><a id='up_27770968' href='vote?id=27770968&amp;how=up&amp;goto=news'><div class='votearrow' title='upvote'></div></a></center></td><td class=\"title\"><a href=\"https://blog.sessionstack.com/how-javascript-works-deep-dive-into-call-apply-and-bind-415f6729c902\" class=\"storylink\">How JavaScript Works: deep dive into call, apply, and bind</a><span class=\"sitebit comhead\"> (<a href=\"from?site=sessionstack.com\"><span class=\"sitestr\">sessionstack.com</span></a>)</span></td></tr><tr><td colspan=\"2\"></td><td class=\"subtext\">\n",
      "        <span class=\"score\" id=\"score_27770968\">191 points</span> by <a href=\"user?id=zlatkov\" class=\"hnuser\">zlatkov</a> <span class=\"age\" title=\"2021-07-08T12:19:03\"><a href=\"item?id=27770968\">16 hours ago</a></span> <span id=\"unv_27770968\"></span> | <a href=\"hide?id=27770968&amp;goto=news\">hide</a> | <a href=\"item?id=27770968\">109&nbsp;comments</a>              </td></tr>\n",
      "      <tr class=\"spacer\" style=\"height:5px\"></tr>\n",
      "                <tr class='athing' id='27788212'>\n",
      "      <td align=\"right\" valign=\"top\" class=\"title\"><span class=\"rank\">29.</span></td>      <td valign=\"top\" class=\"votelinks\"><center><a id='up_27788212' href='vote?id=27788212&amp;how=up&amp;goto=news'><div class='votearrow' title='upvote'></div></a></center></td><td class=\"title\"><a href=\"https://www.sfexaminer.com/news/rideshare-surge-pricing-drives-angry-sf-customers-back-to-taxis/\" class=\"storylink\">Uber and Lyft surge pricing drives SF customers back to taxis</a><span class=\"sitebit comhead\"> (<a href=\"from?site=sfexaminer.com\"><span class=\"sitestr\">sfexaminer.com</span></a>)</span></td></tr><tr><td colspan=\"2\"></td><td class=\"subtext\">\n",
      "        <span class=\"score\" id=\"score_27788212\">210 points</span> by <a href=\"user?id=edward\" class=\"hnuser\">edward</a> <span class=\"age\" title=\"2021-07-09T20:36:50\"><a href=\"item?id=27788212\">15 hours ago</a></span> <span id=\"unv_27788212\"></span> | <a href=\"hide?id=27788212&amp;goto=news\">hide</a> | <a href=\"item?id=27788212\">188&nbsp;comments</a>              </td></tr>\n",
      "      <tr class=\"spacer\" style=\"height:5px\"></tr>\n",
      "                <tr class='athing' id='27770705'>\n",
      "      <td align=\"right\" valign=\"top\" class=\"title\"><span class=\"rank\">30.</span></td>      <td valign=\"top\" class=\"votelinks\"><center><a id='up_27770705' href='vote?id=27770705&amp;how=up&amp;goto=news'><div class='votearrow' title='upvote'></div></a></center></td><td class=\"title\"><a href=\"https://arstechnica.com/science/2021/07/reconstructing-roman-industrial-engineering/\" class=\"storylink\">Reconstructing Roman Industrial Engineering</a><span class=\"sitebit comhead\"> (<a href=\"from?site=arstechnica.com\"><span class=\"sitestr\">arstechnica.com</span></a>)</span></td></tr><tr><td colspan=\"2\"></td><td class=\"subtext\">\n",
      "        <span class=\"score\" id=\"score_27770705\">94 points</span> by <a href=\"user?id=samizdis\" class=\"hnuser\">samizdis</a> <span class=\"age\" title=\"2021-07-08T11:46:54\"><a href=\"item?id=27770705\">1 day ago</a></span> <span id=\"unv_27770705\"></span> | <a href=\"hide?id=27770705&amp;goto=news\">hide</a> | <a href=\"item?id=27770705\">32&nbsp;comments</a>              </td></tr>\n",
      "      <tr class=\"spacer\" style=\"height:5px\"></tr>\n",
      "            <tr class=\"morespace\" style=\"height:10px\"></tr><tr><td colspan=\"2\"></td><td class=\"title\"><a href=\"news?p=2\" class=\"morelink\" rel=\"next\">More</a></td></tr>\n",
      "  </table>\n",
      "</td></tr>\n",
      "<tr><td><img src=\"s.gif\" height=\"10\" width=\"0\"><table width=\"100%\" cellspacing=\"0\" cellpadding=\"1\"><tr><td bgcolor=\"#ff6600\"></td></tr></table><br><center><a href=\"https://blog.ycombinator.com/early-deadline-for-yc-winter-2022/\">\n",
      "        Apply early for the YC Winter 2022 batch\n",
      "      </a></center><br><center><span class=\"yclinks\"><a href=\"newsguidelines.html\">Guidelines</a>\n",
      "        | <a href=\"newsfaq.html\">FAQ</a>\n",
      "        | <a href=\"lists\">Lists</a>\n",
      "        | <a href=\"https://github.com/HackerNews/API\">API</a>\n",
      "        | <a href=\"security.html\">Security</a>\n",
      "        | <a href=\"http://www.ycombinator.com/legal/\">Legal</a>\n",
      "        | <a href=\"http://www.ycombinator.com/apply/\">Apply to YC</a>\n",
      "        | <a href=\"mailto:hn@ycombinator.com\">Contact</a></span><br><br><form method=\"get\" action=\"//hn.algolia.com/\">Search:\n",
      "          <input type=\"text\" name=\"q\" value=\"\" size=\"17\" autocorrect=\"off\" spellcheck=\"false\" autocapitalize=\"off\" autocomplete=\"false\"></form>\n",
      "            </center></td></tr>\n",
      "      </table></center></body><script type='text/javascript' src='hn.js?u5J2AhZiIQCLx65l5EdP'></script></html>\n",
      "\n"
     ]
    }
   ],
   "source": [
    "import requests\n",
    "\n",
    "# Fetch a web page\n",
    "r = requests.get(\"https://news.ycombinator.com\")\n",
    "print(r.text)"
   ]
  },
  {
   "cell_type": "code",
   "execution_count": 6,
   "metadata": {},
   "outputs": [
    {
     "name": "stdout",
     "output_type": "stream",
     "text": [
      "\n",
      "        \n",
      "          \n",
      "        Hacker News\n",
      "        \n",
      "                  Hacker News\n",
      "              new | past | comments | ask | show | jobs | submit            \n",
      "                              login\n",
      "                          \n",
      "              \n",
      "\n",
      "              \n",
      "      1.      25 Gigabit Linux internet router PC build (stapelberg.ch)\n",
      "        29 points by secure 21 minutes ago  | hide | 4&nbsp;comments              \n",
      "      \n",
      "                \n",
      "      2.      Creep – a pretty sweet 4px wide pixel font (github.com/romeovs)\n",
      "        390 points by pabs3 12 hours ago  | hide | 80&nbsp;comments              \n",
      "      \n",
      "                \n",
      "      3.      Seagate Barracuda Ramp Weakness (dq-int.co.uk)\n",
      "        89 points by doener 8 hours ago  | hide | 13&nbsp;comments              \n",
      "      \n",
      "                \n",
      "      4.      Against SQL (scattered-thoughts.net)\n",
      "        257 points by deafcalculus 5 hours ago  | hide | 190&nbsp;comments              \n",
      "      \n",
      "                \n",
      "      5.      Beetle walking upside down under water surface filmed in Australia (theguardian.com)\n",
      "        95 points by namu-313 8 hours ago  | hide | 19&nbsp;comments              \n",
      "      \n",
      "                \n",
      "      6.      MagicBell (YC W21) Is Hiring a Founding Front End Engineer (Remote) (notion.so)\n",
      "        10 minutes ago | hide      \n",
      "      \n",
      "                \n",
      "      7.      How safe is Colin Furze's tunnel? (reddit.com)\n",
      "        13 points by rwmj 34 minutes ago  | hide | 1&nbsp;comment              \n",
      "      \n",
      "                \n",
      "      8.      Kmart In-Store Music Tapes [audio] (forkeepspodcast.com)\n",
      "        95 points by niedzielski 10 hours ago  | hide | 8&nbsp;comments              \n",
      "      \n",
      "                \n",
      "      9.      Generate a Git repository with 2^28 commits—one for every 7-character shorthash (github.com/not-an-aardvark)\n",
      "        208 points by breck 15 hours ago  | hide | 65&nbsp;comments              \n",
      "      \n",
      "                \n",
      "      10.      Programmers, teach non-geeks the true cost of interruptions (2014) (daedtech.com)\n",
      "        225 points by davikrr 16 hours ago  | hide | 200&nbsp;comments              \n",
      "      \n",
      "                \n",
      "      11.      Zygalski Sheets (wikipedia.org)\n",
      "        13 points by benbreen 4 hours ago  | hide | 1&nbsp;comment              \n",
      "      \n",
      "                \n",
      "      12.      “Cat Person” and Me (slate.com)\n",
      "        147 points by jasonhansel 12 hours ago  | hide | 110&nbsp;comments              \n",
      "      \n",
      "                \n",
      "      13.      80% of my traffic is excluded from Google Analytics (twitter.com/eric_khun)\n",
      "        122 points by eric_khun 6 hours ago  | hide | 95&nbsp;comments              \n",
      "      \n",
      "                \n",
      "      14.      HTTrack Website Copier – Free Software Offline Browser (GNU GPL) (httrack.com)\n",
      "        85 points by evo_9 11 hours ago  | hide | 26&nbsp;comments              \n",
      "      \n",
      "                \n",
      "      15.      How I accidentally took down GitHub Actions (2019) (teddykatz.com)\n",
      "        122 points by l1n 13 hours ago  | hide | 13&nbsp;comments              \n",
      "      \n",
      "                \n",
      "      16.      Serverless Computing: A Security Perspective (arxiv.org)\n",
      "        39 points by belter 9 hours ago  | hide | 2&nbsp;comments              \n",
      "      \n",
      "                \n",
      "      17.      The coupon code is a slap in the face (2011) (justinjackson.ca)\n",
      "        19 points by amzans 2 hours ago  | hide | 3&nbsp;comments              \n",
      "      \n",
      "                \n",
      "      18.      The Saga of the Reindeer of South Georgia Island (atlasobscura.com)\n",
      "        6 points by aww_dang 3 hours ago  | hide | discuss              \n",
      "      \n",
      "                \n",
      "      19.      My proposal for scaling open source: don’t (sicpers.info)\n",
      "        81 points by mpweiher 12 hours ago  | hide | 16&nbsp;comments              \n",
      "      \n",
      "                \n",
      "      20.      CMake Part 1 – The Dark Arts (feabhas.com)\n",
      "        81 points by baydonFlyer 14 hours ago  | hide | 46&nbsp;comments              \n",
      "      \n",
      "                \n",
      "      21.      Cisco BPA, WSA Bugs Allow Remote Cyberattacks (threatpost.com)\n",
      "        4 points by billyharris 51 minutes ago  | hide | discuss              \n",
      "      \n",
      "                \n",
      "      22.      A small town in Sweden fights to preserve Elfdalian, a dying forest language (pri.org)\n",
      "        176 points by hashmush 15 hours ago  | hide | 173&nbsp;comments              \n",
      "      \n",
      "                \n",
      "      23.      Show HN: Earthly – Better Builds (earthly.dev)\n",
      "        200 points by agbell 19 hours ago  | hide | 67&nbsp;comments              \n",
      "      \n",
      "                \n",
      "      24.      Adaptation and Re-adaptation: The story of Pitfall II (nicole.express)\n",
      "        12 points by headalgorithm 5 hours ago  | hide | 3&nbsp;comments              \n",
      "      \n",
      "                \n",
      "      25.      Cheating in FPS by using a second computer to move mouse (arstechnica.com)\n",
      "        131 points by tarunupaday 9 hours ago  | hide | 89&nbsp;comments              \n",
      "      \n",
      "                \n",
      "      26.      Controlling Marantz amplifier using Arduino via “Remote” socket (smallhacks.wordpress.com)\n",
      "        60 points by zdw 16 hours ago  | hide | 21&nbsp;comments              \n",
      "      \n",
      "                \n",
      "      27.      Cauliflower and Chaos, Fractals in Every Floret (nytimes.com)\n",
      "        47 points by gumby 13 hours ago  | hide | 10&nbsp;comments              \n",
      "      \n",
      "                \n",
      "      28.      How JavaScript Works: deep dive into call, apply, and bind (sessionstack.com)\n",
      "        191 points by zlatkov 16 hours ago  | hide | 109&nbsp;comments              \n",
      "      \n",
      "                \n",
      "      29.      Uber and Lyft surge pricing drives SF customers back to taxis (sfexaminer.com)\n",
      "        210 points by edward 15 hours ago  | hide | 188&nbsp;comments              \n",
      "      \n",
      "                \n",
      "      30.      Reconstructing Roman Industrial Engineering (arstechnica.com)\n",
      "        94 points by samizdis 1 day ago  | hide | 32&nbsp;comments              \n",
      "      \n",
      "            More\n",
      "  \n",
      "\n",
      "\n",
      "        Apply early for the YC Winter 2022 batch\n",
      "      Guidelines\n",
      "        | FAQ\n",
      "        | Lists\n",
      "        | API\n",
      "        | Security\n",
      "        | Legal\n",
      "        | Apply to YC\n",
      "        | ContactSearch:\n",
      "          \n",
      "            \n",
      "      \n",
      "\n"
     ]
    }
   ],
   "source": [
    "import re\n",
    "\n",
    "# Remove HTML tags using RegEx\n",
    "pattern = re.compile(r'<.*?>')  # tags look like <...>\n",
    "print(pattern.sub('', r.text))  # replace them with blank"
   ]
  },
  {
   "cell_type": "code",
   "execution_count": 7,
   "metadata": {},
   "outputs": [
    {
     "name": "stdout",
     "output_type": "stream",
     "text": [
      "\n",
      "        \n",
      "          \n",
      "        Hacker News\n",
      "        \n",
      "                  Hacker News\n",
      "              new | past | comments | ask | show | jobs | submit            \n",
      "                              login\n",
      "                          \n",
      "              \n",
      "\n",
      "              \n",
      "      1.      25 Gigabit Linux internet router PC build (stapelberg.ch)\n",
      "        29 points by secure 21 minutes ago  | hide | 4 comments              \n",
      "      \n",
      "                \n",
      "      2.      Creep – a pretty sweet 4px wide pixel font (github.com/romeovs)\n",
      "        390 points by pabs3 12 hours ago  | hide | 80 comments              \n",
      "      \n",
      "                \n",
      "      3.      Seagate Barracuda Ramp Weakness (dq-int.co.uk)\n",
      "        89 points by doener 8 hours ago  | hide | 13 comments              \n",
      "      \n",
      "                \n",
      "      4.      Against SQL (scattered-thoughts.net)\n",
      "        257 points by deafcalculus 5 hours ago  | hide | 190 comments              \n",
      "      \n",
      "                \n",
      "      5.      Beetle walking upside down under water surface filmed in Australia (theguardian.com)\n",
      "        95 points by namu-313 8 hours ago  | hide | 19 comments              \n",
      "      \n",
      "                \n",
      "      6.      MagicBell (YC W21) Is Hiring a Founding Front End Engineer (Remote) (notion.so)\n",
      "        10 minutes ago | hide      \n",
      "      \n",
      "                \n",
      "      7.      How safe is Colin Furze's tunnel? (reddit.com)\n",
      "        13 points by rwmj 34 minutes ago  | hide | 1 comment              \n",
      "      \n",
      "                \n",
      "      8.      Kmart In-Store Music Tapes [audio] (forkeepspodcast.com)\n",
      "        95 points by niedzielski 10 hours ago  | hide | 8 comments              \n",
      "      \n",
      "                \n",
      "      9.      Generate a Git repository with 2^28 commits—one for every 7-character shorthash (github.com/not-an-aardvark)\n",
      "        208 points by breck 15 hours ago  | hide | 65 comments              \n",
      "      \n",
      "                \n",
      "      10.      Programmers, teach non-geeks the true cost of interruptions (2014) (daedtech.com)\n",
      "        225 points by davikrr 16 hours ago  | hide | 200 comments              \n",
      "      \n",
      "                \n",
      "      11.      Zygalski Sheets (wikipedia.org)\n",
      "        13 points by benbreen 4 hours ago  | hide | 1 comment              \n",
      "      \n",
      "                \n",
      "      12.      “Cat Person” and Me (slate.com)\n",
      "        147 points by jasonhansel 12 hours ago  | hide | 110 comments              \n",
      "      \n",
      "                \n",
      "      13.      80% of my traffic is excluded from Google Analytics (twitter.com/eric_khun)\n",
      "        122 points by eric_khun 6 hours ago  | hide | 95 comments              \n",
      "      \n",
      "                \n",
      "      14.      HTTrack Website Copier – Free Software Offline Browser (GNU GPL) (httrack.com)\n",
      "        85 points by evo_9 11 hours ago  | hide | 26 comments              \n",
      "      \n",
      "                \n",
      "      15.      How I accidentally took down GitHub Actions (2019) (teddykatz.com)\n",
      "        122 points by l1n 13 hours ago  | hide | 13 comments              \n",
      "      \n",
      "                \n",
      "      16.      Serverless Computing: A Security Perspective (arxiv.org)\n",
      "        39 points by belter 9 hours ago  | hide | 2 comments              \n",
      "      \n",
      "                \n",
      "      17.      The coupon code is a slap in the face (2011) (justinjackson.ca)\n",
      "        19 points by amzans 2 hours ago  | hide | 3 comments              \n",
      "      \n",
      "                \n",
      "      18.      The Saga of the Reindeer of South Georgia Island (atlasobscura.com)\n",
      "        6 points by aww_dang 3 hours ago  | hide | discuss              \n",
      "      \n",
      "                \n",
      "      19.      My proposal for scaling open source: don’t (sicpers.info)\n",
      "        81 points by mpweiher 12 hours ago  | hide | 16 comments              \n",
      "      \n",
      "                \n",
      "      20.      CMake Part 1 – The Dark Arts (feabhas.com)\n",
      "        81 points by baydonFlyer 14 hours ago  | hide | 46 comments              \n",
      "      \n",
      "                \n",
      "      21.      Cisco BPA, WSA Bugs Allow Remote Cyberattacks (threatpost.com)\n",
      "        4 points by billyharris 51 minutes ago  | hide | discuss              \n",
      "      \n",
      "                \n",
      "      22.      A small town in Sweden fights to preserve Elfdalian, a dying forest language (pri.org)\n",
      "        176 points by hashmush 15 hours ago  | hide | 173 comments              \n",
      "      \n",
      "                \n",
      "      23.      Show HN: Earthly – Better Builds (earthly.dev)\n",
      "        200 points by agbell 19 hours ago  | hide | 67 comments              \n",
      "      \n",
      "                \n",
      "      24.      Adaptation and Re-adaptation: The story of Pitfall II (nicole.express)\n",
      "        12 points by headalgorithm 5 hours ago  | hide | 3 comments              \n",
      "      \n",
      "                \n",
      "      25.      Cheating in FPS by using a second computer to move mouse (arstechnica.com)\n",
      "        131 points by tarunupaday 9 hours ago  | hide | 89 comments              \n",
      "      \n",
      "                \n",
      "      26.      Controlling Marantz amplifier using Arduino via “Remote” socket (smallhacks.wordpress.com)\n",
      "        60 points by zdw 16 hours ago  | hide | 21 comments              \n",
      "      \n",
      "                \n",
      "      27.      Cauliflower and Chaos, Fractals in Every Floret (nytimes.com)\n",
      "        47 points by gumby 13 hours ago  | hide | 10 comments              \n",
      "      \n",
      "                \n",
      "      28.      How JavaScript Works: deep dive into call, apply, and bind (sessionstack.com)\n",
      "        191 points by zlatkov 16 hours ago  | hide | 109 comments              \n",
      "      \n",
      "                \n",
      "      29.      Uber and Lyft surge pricing drives SF customers back to taxis (sfexaminer.com)\n",
      "        210 points by edward 15 hours ago  | hide | 188 comments              \n",
      "      \n",
      "                \n",
      "      30.      Reconstructing Roman Industrial Engineering (arstechnica.com)\n",
      "        94 points by samizdis 1 day ago  | hide | 32 comments              \n",
      "      \n",
      "            More\n",
      "  \n",
      "\n",
      "\n",
      "        Apply early for the YC Winter 2022 batch\n",
      "      Guidelines\n",
      "        | FAQ\n",
      "        | Lists\n",
      "        | API\n",
      "        | Security\n",
      "        | Legal\n",
      "        | Apply to YC\n",
      "        | ContactSearch:\n",
      "          \n",
      "            \n",
      "      \n",
      "\n"
     ]
    }
   ],
   "source": [
    "from bs4 import BeautifulSoup\n",
    "\n",
    "# Remove HTML tags using Beautiful Soup library\n",
    "soup = BeautifulSoup(r.text, \"html5lib\")\n",
    "print(soup.get_text())"
   ]
  },
  {
   "cell_type": "code",
   "execution_count": 9,
   "metadata": {
    "scrolled": true
   },
   "outputs": [
    {
     "data": {
      "text/plain": [
       "[<tr class=\"athing\" id=\"27792738\">\n",
       "       <td align=\"right\" class=\"title\" valign=\"top\"><span class=\"rank\">1.</span></td>      <td class=\"votelinks\" valign=\"top\"><center><a href=\"vote?id=27792738&amp;how=up&amp;goto=news\" id=\"up_27792738\"><div class=\"votearrow\" title=\"upvote\"></div></a></center></td><td class=\"title\"><a class=\"storylink\" href=\"https://michael.stapelberg.ch/posts/2021-07-10-linux-25gbit-internet-router-pc-build/\">25 Gigabit Linux internet router PC build</a><span class=\"sitebit comhead\"> (<a href=\"from?site=stapelberg.ch\"><span class=\"sitestr\">stapelberg.ch</span></a>)</span></td></tr>,\n",
       " <tr class=\"athing\" id=\"27789697\">\n",
       "       <td align=\"right\" class=\"title\" valign=\"top\"><span class=\"rank\">2.</span></td>      <td class=\"votelinks\" valign=\"top\"><center><a href=\"vote?id=27789697&amp;how=up&amp;goto=news\" id=\"up_27789697\"><div class=\"votearrow\" title=\"upvote\"></div></a></center></td><td class=\"title\"><a class=\"storylink\" href=\"https://github.com/romeovs/creep\">Creep – a pretty sweet 4px wide pixel font</a><span class=\"sitebit comhead\"> (<a href=\"from?site=github.com/romeovs\"><span class=\"sitestr\">github.com/romeovs</span></a>)</span></td></tr>,\n",
       " <tr class=\"athing\" id=\"27781146\">\n",
       "       <td align=\"right\" class=\"title\" valign=\"top\"><span class=\"rank\">3.</span></td>      <td class=\"votelinks\" valign=\"top\"><center><a href=\"vote?id=27781146&amp;how=up&amp;goto=news\" id=\"up_27781146\"><div class=\"votearrow\" title=\"upvote\"></div></a></center></td><td class=\"title\"><a class=\"storylink\" href=\"https://www.dq-int.co.uk/blog/seagate-barracuda-ramp-weakness/\">Seagate Barracuda Ramp Weakness</a><span class=\"sitebit comhead\"> (<a href=\"from?site=dq-int.co.uk\"><span class=\"sitestr\">dq-int.co.uk</span></a>)</span></td></tr>,\n",
       " <tr class=\"athing\" id=\"27791539\">\n",
       "       <td align=\"right\" class=\"title\" valign=\"top\"><span class=\"rank\">4.</span></td>      <td class=\"votelinks\" valign=\"top\"><center><a href=\"vote?id=27791539&amp;how=up&amp;goto=news\" id=\"up_27791539\"><div class=\"votearrow\" title=\"upvote\"></div></a></center></td><td class=\"title\"><a class=\"storylink\" href=\"https://scattered-thoughts.net/writing/against-sql/\">Against SQL</a><span class=\"sitebit comhead\"> (<a href=\"from?site=scattered-thoughts.net\"><span class=\"sitestr\">scattered-thoughts.net</span></a>)</span></td></tr>,\n",
       " <tr class=\"athing\" id=\"27780899\">\n",
       "       <td align=\"right\" class=\"title\" valign=\"top\"><span class=\"rank\">5.</span></td>      <td class=\"votelinks\" valign=\"top\"><center><a href=\"vote?id=27780899&amp;how=up&amp;goto=news\" id=\"up_27780899\"><div class=\"votearrow\" title=\"upvote\"></div></a></center></td><td class=\"title\"><a class=\"storylink\" href=\"https://www.theguardian.com/environment/2021/jul/09/beetle-that-can-walk-upside-down-under-water-surface-filmed-in-australia-in-world-first\">Beetle walking upside down under water surface filmed in Australia</a><span class=\"sitebit comhead\"> (<a href=\"from?site=theguardian.com\"><span class=\"sitestr\">theguardian.com</span></a>)</span></td></tr>,\n",
       " <tr class=\"athing\" id=\"27792786\">\n",
       "       <td align=\"right\" class=\"title\" valign=\"top\"><span class=\"rank\">6.</span></td>      <td></td><td class=\"title\"><a class=\"storylink\" href=\"https://www.notion.so/magicbell/Founding-Frontend-Engineer-Fully-Remote-5d6c0eceed334d6e95f71dec6167453c\" rel=\"nofollow\">MagicBell (YC W21) Is Hiring a Founding Front End Engineer (Remote)</a><span class=\"sitebit comhead\"> (<a href=\"from?site=notion.so\"><span class=\"sitestr\">notion.so</span></a>)</span></td></tr>,\n",
       " <tr class=\"athing\" id=\"27792683\">\n",
       "       <td align=\"right\" class=\"title\" valign=\"top\"><span class=\"rank\">7.</span></td>      <td class=\"votelinks\" valign=\"top\"><center><a href=\"vote?id=27792683&amp;how=up&amp;goto=news\" id=\"up_27792683\"><div class=\"votearrow\" title=\"upvote\"></div></a></center></td><td class=\"title\"><a class=\"storylink\" href=\"https://www.reddit.com/r/AskEngineers/comments/oh0vt0/how_safe_is_the_colin_furzes_tunnel/\">How safe is Colin Furze's tunnel?</a><span class=\"sitebit comhead\"> (<a href=\"from?site=reddit.com\"><span class=\"sitestr\">reddit.com</span></a>)</span></td></tr>,\n",
       " <tr class=\"athing\" id=\"27780527\">\n",
       "       <td align=\"right\" class=\"title\" valign=\"top\"><span class=\"rank\">8.</span></td>      <td class=\"votelinks\" valign=\"top\"><center><a href=\"vote?id=27780527&amp;how=up&amp;goto=news\" id=\"up_27780527\"><div class=\"votearrow\" title=\"upvote\"></div></a></center></td><td class=\"title\"><a class=\"storylink\" href=\"https://forkeepspodcast.com/71-kmart-in-store-music-tapes-saved-by-mark-davis\">Kmart In-Store Music Tapes [audio]</a><span class=\"sitebit comhead\"> (<a href=\"from?site=forkeepspodcast.com\"><span class=\"sitestr\">forkeepspodcast.com</span></a>)</span></td></tr>,\n",
       " <tr class=\"athing\" id=\"27788238\">\n",
       "       <td align=\"right\" class=\"title\" valign=\"top\"><span class=\"rank\">9.</span></td>      <td class=\"votelinks\" valign=\"top\"><center><a href=\"vote?id=27788238&amp;how=up&amp;goto=news\" id=\"up_27788238\"><div class=\"votearrow\" title=\"upvote\"></div></a></center></td><td class=\"title\"><a class=\"storylink\" href=\"https://github.com/not-an-aardvark/every-git-commit-shorthash\">Generate a Git repository with 2^28 commits—one for every 7-character shorthash</a><span class=\"sitebit comhead\"> (<a href=\"from?site=github.com/not-an-aardvark\"><span class=\"sitestr\">github.com/not-an-aardvark</span></a>)</span></td></tr>,\n",
       " <tr class=\"athing\" id=\"27787604\">\n",
       "       <td align=\"right\" class=\"title\" valign=\"top\"><span class=\"rank\">10.</span></td>      <td class=\"votelinks\" valign=\"top\"><center><a href=\"vote?id=27787604&amp;how=up&amp;goto=news\" id=\"up_27787604\"><div class=\"votearrow\" title=\"upvote\"></div></a></center></td><td class=\"title\"><a class=\"storylink\" href=\"https://daedtech.com/programmers-teach-non-geeks-the-true-cost-of-interruptions/\">Programmers, teach non-geeks the true cost of interruptions (2014)</a><span class=\"sitebit comhead\"> (<a href=\"from?site=daedtech.com\"><span class=\"sitestr\">daedtech.com</span></a>)</span></td></tr>,\n",
       " <tr class=\"athing\" id=\"27791817\">\n",
       "       <td align=\"right\" class=\"title\" valign=\"top\"><span class=\"rank\">11.</span></td>      <td class=\"votelinks\" valign=\"top\"><center><a href=\"vote?id=27791817&amp;how=up&amp;goto=news\" id=\"up_27791817\"><div class=\"votearrow\" title=\"upvote\"></div></a></center></td><td class=\"title\"><a class=\"storylink\" href=\"https://en.wikipedia.org/wiki/Zygalski_sheets\">Zygalski Sheets</a><span class=\"sitebit comhead\"> (<a href=\"from?site=wikipedia.org\"><span class=\"sitestr\">wikipedia.org</span></a>)</span></td></tr>,\n",
       " <tr class=\"athing\" id=\"27778689\">\n",
       "       <td align=\"right\" class=\"title\" valign=\"top\"><span class=\"rank\">12.</span></td>      <td class=\"votelinks\" valign=\"top\"><center><a href=\"vote?id=27778689&amp;how=up&amp;goto=news\" id=\"up_27778689\"><div class=\"votearrow\" title=\"upvote\"></div></a></center></td><td class=\"title\"><a class=\"storylink\" href=\"https://slate.com/human-interest/2021/07/cat-person-kristen-roupenian-viral-story-about-me.html\">“Cat Person” and Me</a><span class=\"sitebit comhead\"> (<a href=\"from?site=slate.com\"><span class=\"sitestr\">slate.com</span></a>)</span></td></tr>,\n",
       " <tr class=\"athing\" id=\"27791447\">\n",
       "       <td align=\"right\" class=\"title\" valign=\"top\"><span class=\"rank\">13.</span></td>      <td class=\"votelinks\" valign=\"top\"><center><a href=\"vote?id=27791447&amp;how=up&amp;goto=news\" id=\"up_27791447\"><div class=\"votearrow\" title=\"upvote\"></div></a></center></td><td class=\"title\"><a class=\"storylink\" href=\"https://twitter.com/eric_khun/status/1413724571765809152\">80% of my traffic is excluded from Google Analytics</a><span class=\"sitebit comhead\"> (<a href=\"from?site=twitter.com/eric_khun\"><span class=\"sitestr\">twitter.com/eric_khun</span></a>)</span></td></tr>,\n",
       " <tr class=\"athing\" id=\"27789910\">\n",
       "       <td align=\"right\" class=\"title\" valign=\"top\"><span class=\"rank\">14.</span></td>      <td class=\"votelinks\" valign=\"top\"><center><a href=\"vote?id=27789910&amp;how=up&amp;goto=news\" id=\"up_27789910\"><div class=\"votearrow\" title=\"upvote\"></div></a></center></td><td class=\"title\"><a class=\"storylink\" href=\"https://www.httrack.com/\">HTTrack Website Copier – Free Software Offline Browser (GNU GPL)</a><span class=\"sitebit comhead\"> (<a href=\"from?site=httrack.com\"><span class=\"sitestr\">httrack.com</span></a>)</span></td></tr>,\n",
       " <tr class=\"athing\" id=\"27789101\">\n",
       "       <td align=\"right\" class=\"title\" valign=\"top\"><span class=\"rank\">15.</span></td>      <td class=\"votelinks\" valign=\"top\"><center><a href=\"vote?id=27789101&amp;how=up&amp;goto=news\" id=\"up_27789101\"><div class=\"votearrow\" title=\"upvote\"></div></a></center></td><td class=\"title\"><a class=\"storylink\" href=\"https://blog.teddykatz.com/2019/11/12/github-actions-dos.html\">How I accidentally took down GitHub Actions (2019)</a><span class=\"sitebit comhead\"> (<a href=\"from?site=teddykatz.com\"><span class=\"sitestr\">teddykatz.com</span></a>)</span></td></tr>,\n",
       " <tr class=\"athing\" id=\"27783793\">\n",
       "       <td align=\"right\" class=\"title\" valign=\"top\"><span class=\"rank\">16.</span></td>      <td class=\"votelinks\" valign=\"top\"><center><a href=\"vote?id=27783793&amp;how=up&amp;goto=news\" id=\"up_27783793\"><div class=\"votearrow\" title=\"upvote\"></div></a></center></td><td class=\"title\"><a class=\"storylink\" href=\"https://arxiv.org/abs/2107.03832\">Serverless Computing: A Security Perspective</a><span class=\"sitebit comhead\"> (<a href=\"from?site=arxiv.org\"><span class=\"sitestr\">arxiv.org</span></a>)</span></td></tr>,\n",
       " <tr class=\"athing\" id=\"27792391\">\n",
       "       <td align=\"right\" class=\"title\" valign=\"top\"><span class=\"rank\">17.</span></td>      <td class=\"votelinks\" valign=\"top\"><center><a href=\"vote?id=27792391&amp;how=up&amp;goto=news\" id=\"up_27792391\"><div class=\"votearrow\" title=\"upvote\"></div></a></center></td><td class=\"title\"><a class=\"storylink\" href=\"https://justinjackson.ca/the-coupon-code-is-a-slap-in-the-face\">The coupon code is a slap in the face (2011)</a><span class=\"sitebit comhead\"> (<a href=\"from?site=justinjackson.ca\"><span class=\"sitestr\">justinjackson.ca</span></a>)</span></td></tr>,\n",
       " <tr class=\"athing\" id=\"27782086\">\n",
       "       <td align=\"right\" class=\"title\" valign=\"top\"><span class=\"rank\">18.</span></td>      <td class=\"votelinks\" valign=\"top\"><center><a href=\"vote?id=27782086&amp;how=up&amp;goto=news\" id=\"up_27782086\"><div class=\"votearrow\" title=\"upvote\"></div></a></center></td><td class=\"title\"><a class=\"storylink\" href=\"https://www.atlasobscura.com/articles/reindeer-in-the-southern-hemisphere\" rel=\"nofollow\">The Saga of the Reindeer of South Georgia Island</a><span class=\"sitebit comhead\"> (<a href=\"from?site=atlasobscura.com\"><span class=\"sitestr\">atlasobscura.com</span></a>)</span></td></tr>,\n",
       " <tr class=\"athing\" id=\"27781243\">\n",
       "       <td align=\"right\" class=\"title\" valign=\"top\"><span class=\"rank\">19.</span></td>      <td class=\"votelinks\" valign=\"top\"><center><a href=\"vote?id=27781243&amp;how=up&amp;goto=news\" id=\"up_27781243\"><div class=\"votearrow\" title=\"upvote\"></div></a></center></td><td class=\"title\"><a class=\"storylink\" href=\"https://www.sicpers.info/2021/07/my-proposal-for-scaling-open-source-dont/\">My proposal for scaling open source: don’t</a><span class=\"sitebit comhead\"> (<a href=\"from?site=sicpers.info\"><span class=\"sitestr\">sicpers.info</span></a>)</span></td></tr>,\n",
       " <tr class=\"athing\" id=\"27781377\">\n",
       "       <td align=\"right\" class=\"title\" valign=\"top\"><span class=\"rank\">20.</span></td>      <td class=\"votelinks\" valign=\"top\"><center><a href=\"vote?id=27781377&amp;how=up&amp;goto=news\" id=\"up_27781377\"><div class=\"votearrow\" title=\"upvote\"></div></a></center></td><td class=\"title\"><a class=\"storylink\" href=\"https://blog.feabhas.com/2021/07/cmake-part-1-the-dark-arts/\">CMake Part 1 – The Dark Arts</a><span class=\"sitebit comhead\"> (<a href=\"from?site=feabhas.com\"><span class=\"sitestr\">feabhas.com</span></a>)</span></td></tr>,\n",
       " <tr class=\"athing\" id=\"27792621\">\n",
       "       <td align=\"right\" class=\"title\" valign=\"top\"><span class=\"rank\">21.</span></td>      <td class=\"votelinks\" valign=\"top\"><center><a href=\"vote?id=27792621&amp;how=up&amp;goto=news\" id=\"up_27792621\"><div class=\"votearrow\" title=\"upvote\"></div></a></center></td><td class=\"title\"><a class=\"storylink\" href=\"https://threatpost.com/cisco-bpa-wsa-bugs-cyberattacks/167654/\" rel=\"nofollow\">Cisco BPA, WSA Bugs Allow Remote Cyberattacks</a><span class=\"sitebit comhead\"> (<a href=\"from?site=threatpost.com\"><span class=\"sitestr\">threatpost.com</span></a>)</span></td></tr>,\n",
       " <tr class=\"athing\" id=\"27781293\">\n",
       "       <td align=\"right\" class=\"title\" valign=\"top\"><span class=\"rank\">22.</span></td>      <td class=\"votelinks\" valign=\"top\"><center><a href=\"vote?id=27781293&amp;how=up&amp;goto=news\" id=\"up_27781293\"><div class=\"votearrow\" title=\"upvote\"></div></a></center></td><td class=\"title\"><a class=\"storylink\" href=\"https://www.pri.org/stories/2021-05-06/small-town-sweden-fights-preserve-elfdalian-dying-forest-language\">A small town in Sweden fights to preserve Elfdalian, a dying forest language</a><span class=\"sitebit comhead\"> (<a href=\"from?site=pri.org\"><span class=\"sitestr\">pri.org</span></a>)</span></td></tr>,\n",
       " <tr class=\"athing\" id=\"27785323\">\n",
       "       <td align=\"right\" class=\"title\" valign=\"top\"><span class=\"rank\">23.</span></td>      <td class=\"votelinks\" valign=\"top\"><center><a href=\"vote?id=27785323&amp;how=up&amp;goto=news\" id=\"up_27785323\"><div class=\"votearrow\" title=\"upvote\"></div></a></center></td><td class=\"title\"><a class=\"storylink\" href=\"https://earthly.dev/\">Show HN: Earthly – Better Builds</a><span class=\"sitebit comhead\"> (<a href=\"from?site=earthly.dev\"><span class=\"sitestr\">earthly.dev</span></a>)</span></td></tr>,\n",
       " <tr class=\"athing\" id=\"27780777\">\n",
       "       <td align=\"right\" class=\"title\" valign=\"top\"><span class=\"rank\">24.</span></td>      <td class=\"votelinks\" valign=\"top\"><center><a href=\"vote?id=27780777&amp;how=up&amp;goto=news\" id=\"up_27780777\"><div class=\"votearrow\" title=\"upvote\"></div></a></center></td><td class=\"title\"><a class=\"storylink\" href=\"https://nicole.express/2021/fallin-in-a-pitfall.html\" rel=\"nofollow\">Adaptation and Re-adaptation: The story of Pitfall II</a><span class=\"sitebit comhead\"> (<a href=\"from?site=nicole.express\"><span class=\"sitestr\">nicole.express</span></a>)</span></td></tr>,\n",
       " <tr class=\"athing\" id=\"27790723\">\n",
       "       <td align=\"right\" class=\"title\" valign=\"top\"><span class=\"rank\">25.</span></td>      <td class=\"votelinks\" valign=\"top\"><center><a href=\"vote?id=27790723&amp;how=up&amp;goto=news\" id=\"up_27790723\"><div class=\"votearrow\" title=\"upvote\"></div></a></center></td><td class=\"title\"><a class=\"storylink\" href=\"https://arstechnica.com/?p=1779166\">Cheating in FPS by using a second computer to move mouse</a><span class=\"sitebit comhead\"> (<a href=\"from?site=arstechnica.com\"><span class=\"sitestr\">arstechnica.com</span></a>)</span></td></tr>,\n",
       " <tr class=\"athing\" id=\"27765934\">\n",
       "       <td align=\"right\" class=\"title\" valign=\"top\"><span class=\"rank\">26.</span></td>      <td class=\"votelinks\" valign=\"top\"><center><a href=\"vote?id=27765934&amp;how=up&amp;goto=news\" id=\"up_27765934\"><div class=\"votearrow\" title=\"upvote\"></div></a></center></td><td class=\"title\"><a class=\"storylink\" href=\"https://smallhacks.wordpress.com/2021/07/07/controlling-marantz-amplifier-using-arduino-via-remote-socket/\">Controlling Marantz amplifier using Arduino via “Remote” socket</a><span class=\"sitebit comhead\"> (<a href=\"from?site=smallhacks.wordpress.com\"><span class=\"sitestr\">smallhacks.wordpress.com</span></a>)</span></td></tr>,\n",
       " <tr class=\"athing\" id=\"27776154\">\n",
       "       <td align=\"right\" class=\"title\" valign=\"top\"><span class=\"rank\">27.</span></td>      <td class=\"votelinks\" valign=\"top\"><center><a href=\"vote?id=27776154&amp;how=up&amp;goto=news\" id=\"up_27776154\"><div class=\"votearrow\" title=\"upvote\"></div></a></center></td><td class=\"title\"><a class=\"storylink\" href=\"https://www.nytimes.com/2021/07/08/science/cauliflower-fractals.html\">Cauliflower and Chaos, Fractals in Every Floret</a><span class=\"sitebit comhead\"> (<a href=\"from?site=nytimes.com\"><span class=\"sitestr\">nytimes.com</span></a>)</span></td></tr>,\n",
       " <tr class=\"athing\" id=\"27770968\">\n",
       "       <td align=\"right\" class=\"title\" valign=\"top\"><span class=\"rank\">28.</span></td>      <td class=\"votelinks\" valign=\"top\"><center><a href=\"vote?id=27770968&amp;how=up&amp;goto=news\" id=\"up_27770968\"><div class=\"votearrow\" title=\"upvote\"></div></a></center></td><td class=\"title\"><a class=\"storylink\" href=\"https://blog.sessionstack.com/how-javascript-works-deep-dive-into-call-apply-and-bind-415f6729c902\">How JavaScript Works: deep dive into call, apply, and bind</a><span class=\"sitebit comhead\"> (<a href=\"from?site=sessionstack.com\"><span class=\"sitestr\">sessionstack.com</span></a>)</span></td></tr>,\n",
       " <tr class=\"athing\" id=\"27788212\">\n",
       "       <td align=\"right\" class=\"title\" valign=\"top\"><span class=\"rank\">29.</span></td>      <td class=\"votelinks\" valign=\"top\"><center><a href=\"vote?id=27788212&amp;how=up&amp;goto=news\" id=\"up_27788212\"><div class=\"votearrow\" title=\"upvote\"></div></a></center></td><td class=\"title\"><a class=\"storylink\" href=\"https://www.sfexaminer.com/news/rideshare-surge-pricing-drives-angry-sf-customers-back-to-taxis/\">Uber and Lyft surge pricing drives SF customers back to taxis</a><span class=\"sitebit comhead\"> (<a href=\"from?site=sfexaminer.com\"><span class=\"sitestr\">sfexaminer.com</span></a>)</span></td></tr>,\n",
       " <tr class=\"athing\" id=\"27770705\">\n",
       "       <td align=\"right\" class=\"title\" valign=\"top\"><span class=\"rank\">30.</span></td>      <td class=\"votelinks\" valign=\"top\"><center><a href=\"vote?id=27770705&amp;how=up&amp;goto=news\" id=\"up_27770705\"><div class=\"votearrow\" title=\"upvote\"></div></a></center></td><td class=\"title\"><a class=\"storylink\" href=\"https://arstechnica.com/science/2021/07/reconstructing-roman-industrial-engineering/\">Reconstructing Roman Industrial Engineering</a><span class=\"sitebit comhead\"> (<a href=\"from?site=arstechnica.com\"><span class=\"sitestr\">arstechnica.com</span></a>)</span></td></tr>]"
      ]
     },
     "execution_count": 9,
     "metadata": {},
     "output_type": "execute_result"
    }
   ],
   "source": [
    "# Find all articles\n",
    "summaries = soup.find_all(\"tr\", class_=\"athing\")\n",
    "summaries"
   ]
  },
  {
   "cell_type": "code",
   "execution_count": 13,
   "metadata": {},
   "outputs": [
    {
     "data": {
      "text/plain": [
       "'25 Gigabit Linux internet router PC build'"
      ]
     },
     "execution_count": 13,
     "metadata": {},
     "output_type": "execute_result"
    }
   ],
   "source": [
    "# Extract title\n",
    "summaries[0].find(\"a\", class_=\"storylink\").get_text().strip()"
   ]
  },
  {
   "cell_type": "code",
   "execution_count": 16,
   "metadata": {},
   "outputs": [
    {
     "name": "stdout",
     "output_type": "stream",
     "text": [
      "30 Article summaries found. Sample:\n",
      "['25 Gigabit Linux internet router PC build', 'Creep – a pretty sweet 4px wide pixel font', 'Seagate Barracuda Ramp Weakness', 'Against SQL', 'Beetle walking upside down under water surface filmed in Australia', 'MagicBell (YC W21) Is Hiring a Founding Front End Engineer (Remote)', \"How safe is Colin Furze's tunnel?\", 'Kmart In-Store Music Tapes [audio]', 'Generate a Git repository with 2^28 commits—one for every 7-character shorthash', 'Programmers, teach non-geeks the true cost of interruptions (2014)', 'Zygalski Sheets', '“Cat Person” and Me', '80% of my traffic is excluded from Google Analytics', 'HTTrack Website Copier – Free Software Offline Browser (GNU GPL)', 'How I accidentally took down GitHub Actions (2019)', 'Serverless Computing: A Security Perspective', 'The coupon code is a slap in the face (2011)', 'The Saga of the Reindeer of South Georgia Island', 'My proposal for scaling open source: don’t', 'CMake Part 1 – The Dark Arts', 'Cisco BPA, WSA Bugs Allow Remote Cyberattacks', 'A small town in Sweden fights to preserve Elfdalian, a dying forest language', 'Show HN: Earthly – Better Builds', 'Adaptation and Re-adaptation: The story of Pitfall II', 'Cheating in FPS by using a second computer to move mouse', 'Controlling Marantz amplifier using Arduino via “Remote” socket', 'Cauliflower and Chaos, Fractals in Every Floret', 'How JavaScript Works: deep dive into call, apply, and bind', 'Uber and Lyft surge pricing drives SF customers back to taxis', 'Reconstructing Roman Industrial Engineering']\n"
     ]
    }
   ],
   "source": [
    "# Find all articles, extract titles\n",
    "articles = []\n",
    "summaries = soup.find_all(\"tr\", class_=\"athing\")\n",
    "for summary in summaries:\n",
    "    title = summary.find(\"a\", class_=\"storylink\").get_text().strip()\n",
    "    articles.append((title))\n",
    "\n",
    "print(len(articles), \"Article summaries found. Sample:\")\n",
    "print(articles)"
   ]
  },
  {
   "cell_type": "markdown",
   "metadata": {
    "collapsed": true
   },
   "source": [
    "## Normalization"
   ]
  },
  {
   "cell_type": "markdown",
   "metadata": {},
   "source": [
    "### Case Normalization"
   ]
  },
  {
   "cell_type": "code",
   "execution_count": 17,
   "metadata": {},
   "outputs": [
    {
     "name": "stdout",
     "output_type": "stream",
     "text": [
      "The first time you see The Second Renaissance it may look boring. Look at it at least twice and definitely watch part 2. It will change your view of the matrix. Are the human people the ones who started the war ? Is AI a bad thing ?\n"
     ]
    }
   ],
   "source": [
    "# Sample text\n",
    "text = \"The first time you see The Second Renaissance it may look boring. Look at it at least twice and definitely watch part 2. It will change your view of the matrix. Are the human people the ones who started the war ? Is AI a bad thing ?\"\n",
    "print(text)"
   ]
  },
  {
   "cell_type": "code",
   "execution_count": 18,
   "metadata": {},
   "outputs": [
    {
     "name": "stdout",
     "output_type": "stream",
     "text": [
      "the first time you see the second renaissance it may look boring. look at it at least twice and definitely watch part 2. it will change your view of the matrix. are the human people the ones who started the war ? is ai a bad thing ?\n"
     ]
    }
   ],
   "source": [
    "# Convert to lowercase\n",
    "text = text.lower() \n",
    "print(text)"
   ]
  },
  {
   "cell_type": "markdown",
   "metadata": {},
   "source": [
    "### Punctuation Removal"
   ]
  },
  {
   "cell_type": "code",
   "execution_count": 19,
   "metadata": {},
   "outputs": [
    {
     "name": "stdout",
     "output_type": "stream",
     "text": [
      "the first time you see the second renaissance it may look boring  look at it at least twice and definitely watch part 2  it will change your view of the matrix  are the human people the ones who started the war   is ai a bad thing  \n"
     ]
    }
   ],
   "source": [
    "import re\n",
    "\n",
    "# Remove punctuation characters\n",
    "text = re.sub(r\"[^a-zA-Z0-9]\", \" \", text) \n",
    "print(text)"
   ]
  },
  {
   "cell_type": "markdown",
   "metadata": {},
   "source": [
    "## Tokenization"
   ]
  },
  {
   "cell_type": "code",
   "execution_count": 20,
   "metadata": {},
   "outputs": [
    {
     "name": "stdout",
     "output_type": "stream",
     "text": [
      "['the', 'first', 'time', 'you', 'see', 'the', 'second', 'renaissance', 'it', 'may', 'look', 'boring', 'look', 'at', 'it', 'at', 'least', 'twice', 'and', 'definitely', 'watch', 'part', '2', 'it', 'will', 'change', 'your', 'view', 'of', 'the', 'matrix', 'are', 'the', 'human', 'people', 'the', 'ones', 'who', 'started', 'the', 'war', 'is', 'ai', 'a', 'bad', 'thing']\n"
     ]
    }
   ],
   "source": [
    "# Split text into tokens (words)\n",
    "words = text.split()\n",
    "print(words)"
   ]
  },
  {
   "cell_type": "markdown",
   "metadata": {},
   "source": [
    "### NLTK: Natural Language ToolKit"
   ]
  },
  {
   "cell_type": "code",
   "execution_count": 21,
   "metadata": {},
   "outputs": [],
   "source": [
    "import os\n",
    "import nltk\n",
    "nltk.data.path.append(os.path.join(os.getcwd(), \"nltk_data\"))"
   ]
  },
  {
   "cell_type": "code",
   "execution_count": null,
   "metadata": {},
   "outputs": [],
   "source": [
    "# Another sample text\n",
    "text = \"Dr. Smith graduated from the University of Washington. He later started an analytics firm called Lux, which catered to enterprise customers.\"\n",
    "print(text)"
   ]
  },
  {
   "cell_type": "code",
   "execution_count": 23,
   "metadata": {},
   "outputs": [
    {
     "name": "stdout",
     "output_type": "stream",
     "text": [
      "['Dr.', 'Smith', 'graduated', 'from', 'the', 'University', 'of', 'Washington', '.', 'He', 'later', 'started', 'an', 'analytics', 'firm', 'called', 'Lux', ',', 'which', 'catered', 'to', 'enterprise', 'customers', '.']\n"
     ]
    }
   ],
   "source": [
    "from nltk.tokenize import word_tokenize\n",
    "\n",
    "# Split text into words using NLTK\n",
    "words = word_tokenize(text)\n",
    "print(words)"
   ]
  },
  {
   "cell_type": "code",
   "execution_count": 24,
   "metadata": {},
   "outputs": [
    {
     "name": "stdout",
     "output_type": "stream",
     "text": [
      "['Dr. Smith graduated from the University of Washington.', 'He later started an analytics firm called Lux, which catered to enterprise customers.']\n"
     ]
    }
   ],
   "source": [
    "from nltk.tokenize import sent_tokenize\n",
    "\n",
    "# Split text into sentences\n",
    "sentences = sent_tokenize(text)\n",
    "print(sentences)"
   ]
  },
  {
   "cell_type": "code",
   "execution_count": 25,
   "metadata": {},
   "outputs": [
    {
     "name": "stdout",
     "output_type": "stream",
     "text": [
      "['i', 'me', 'my', 'myself', 'we', 'our', 'ours', 'ourselves', 'you', \"you're\", \"you've\", \"you'll\", \"you'd\", 'your', 'yours', 'yourself', 'yourselves', 'he', 'him', 'his', 'himself', 'she', \"she's\", 'her', 'hers', 'herself', 'it', \"it's\", 'its', 'itself', 'they', 'them', 'their', 'theirs', 'themselves', 'what', 'which', 'who', 'whom', 'this', 'that', \"that'll\", 'these', 'those', 'am', 'is', 'are', 'was', 'were', 'be', 'been', 'being', 'have', 'has', 'had', 'having', 'do', 'does', 'did', 'doing', 'a', 'an', 'the', 'and', 'but', 'if', 'or', 'because', 'as', 'until', 'while', 'of', 'at', 'by', 'for', 'with', 'about', 'against', 'between', 'into', 'through', 'during', 'before', 'after', 'above', 'below', 'to', 'from', 'up', 'down', 'in', 'out', 'on', 'off', 'over', 'under', 'again', 'further', 'then', 'once', 'here', 'there', 'when', 'where', 'why', 'how', 'all', 'any', 'both', 'each', 'few', 'more', 'most', 'other', 'some', 'such', 'no', 'nor', 'not', 'only', 'own', 'same', 'so', 'than', 'too', 'very', 's', 't', 'can', 'will', 'just', 'don', \"don't\", 'should', \"should've\", 'now', 'd', 'll', 'm', 'o', 're', 've', 'y', 'ain', 'aren', \"aren't\", 'couldn', \"couldn't\", 'didn', \"didn't\", 'doesn', \"doesn't\", 'hadn', \"hadn't\", 'hasn', \"hasn't\", 'haven', \"haven't\", 'isn', \"isn't\", 'ma', 'mightn', \"mightn't\", 'mustn', \"mustn't\", 'needn', \"needn't\", 'shan', \"shan't\", 'shouldn', \"shouldn't\", 'wasn', \"wasn't\", 'weren', \"weren't\", 'won', \"won't\", 'wouldn', \"wouldn't\"]\n"
     ]
    }
   ],
   "source": [
    "# List stop words\n",
    "from nltk.corpus import stopwords\n",
    "print(stopwords.words(\"english\"))"
   ]
  },
  {
   "cell_type": "code",
   "execution_count": 26,
   "metadata": {},
   "outputs": [
    {
     "name": "stdout",
     "output_type": "stream",
     "text": [
      "['the', 'first', 'time', 'you', 'see', 'the', 'second', 'renaissance', 'it', 'may', 'look', 'boring', 'look', 'at', 'it', 'at', 'least', 'twice', 'and', 'definitely', 'watch', 'part', '2', 'it', 'will', 'change', 'your', 'view', 'of', 'the', 'matrix', 'are', 'the', 'human', 'people', 'the', 'ones', 'who', 'started', 'the', 'war', 'is', 'ai', 'a', 'bad', 'thing']\n"
     ]
    }
   ],
   "source": [
    "# Reset text\n",
    "text = \"The first time you see The Second Renaissance it may look boring. Look at it at least twice and definitely watch part 2. It will change your view of the matrix. Are the human people the ones who started the war ? Is AI a bad thing ?\"\n",
    "\n",
    "# Normalize it\n",
    "text = re.sub(r\"[^a-zA-Z0-9]\", \" \", text.lower())\n",
    "\n",
    "# Tokenize it\n",
    "words = text.split()\n",
    "print(words)"
   ]
  },
  {
   "cell_type": "code",
   "execution_count": 27,
   "metadata": {},
   "outputs": [
    {
     "name": "stdout",
     "output_type": "stream",
     "text": [
      "['first', 'time', 'see', 'second', 'renaissance', 'may', 'look', 'boring', 'look', 'least', 'twice', 'definitely', 'watch', 'part', '2', 'change', 'view', 'matrix', 'human', 'people', 'ones', 'started', 'war', 'ai', 'bad', 'thing']\n"
     ]
    }
   ],
   "source": [
    "# Remove stop words\n",
    "words = [w for w in words if w not in stopwords.words(\"english\")]\n",
    "print(words)"
   ]
  },
  {
   "cell_type": "markdown",
   "metadata": {},
   "source": [
    "### Sentence Parsing"
   ]
  },
  {
   "cell_type": "code",
   "execution_count": 28,
   "metadata": {},
   "outputs": [
    {
     "name": "stdout",
     "output_type": "stream",
     "text": [
      "(S\n",
      "  (NP I)\n",
      "  (VP\n",
      "    (VP (V shot) (NP (Det an) (N elephant)))\n",
      "    (PP (P in) (NP (Det my) (N pajamas)))))\n",
      "(S\n",
      "  (NP I)\n",
      "  (VP\n",
      "    (V shot)\n",
      "    (NP (Det an) (N elephant) (PP (P in) (NP (Det my) (N pajamas))))))\n"
     ]
    }
   ],
   "source": [
    "import nltk\n",
    "\n",
    "# Define a custom grammar\n",
    "my_grammar = nltk.CFG.fromstring(\"\"\"\n",
    "S -> NP VP\n",
    "PP -> P NP\n",
    "NP -> Det N | Det N PP | 'I'\n",
    "VP -> V NP | VP PP\n",
    "Det -> 'an' | 'my'\n",
    "N -> 'elephant' | 'pajamas'\n",
    "V -> 'shot'\n",
    "P -> 'in'\n",
    "\"\"\")\n",
    "parser = nltk.ChartParser(my_grammar)\n",
    "\n",
    "# Parse a sentence\n",
    "sentence = word_tokenize(\"I shot an elephant in my pajamas\")\n",
    "for tree in parser.parse(sentence):\n",
    "    print(tree)"
   ]
  },
  {
   "cell_type": "markdown",
   "metadata": {},
   "source": [
    "## Stemming & Lemmatization\n",
    "\n",
    "### Stemming"
   ]
  },
  {
   "cell_type": "code",
   "execution_count": 31,
   "metadata": {},
   "outputs": [
    {
     "name": "stdout",
     "output_type": "stream",
     "text": [
      "['first', 'time', 'see', 'second', 'renaiss', 'may', 'look', 'bore', 'look', 'least', 'twice', 'definit', 'watch', 'part', '2', 'chang', 'view', 'matrix', 'human', 'peopl', 'one', 'start', 'war', 'ai', 'bad', 'thing']\n"
     ]
    }
   ],
   "source": [
    "from nltk.stem.porter import PorterStemmer\n",
    "\n",
    "# Reduce words to their stems\n",
    "stemmed = [PorterStemmer().stem(w) for w in words]\n",
    "print(stemmed)"
   ]
  },
  {
   "cell_type": "markdown",
   "metadata": {},
   "source": [
    "### Lemmatization"
   ]
  },
  {
   "cell_type": "code",
   "execution_count": 30,
   "metadata": {},
   "outputs": [
    {
     "name": "stdout",
     "output_type": "stream",
     "text": [
      "['first', 'time', 'see', 'second', 'renaissance', 'may', 'look', 'boring', 'look', 'least', 'twice', 'definitely', 'watch', 'part', '2', 'change', 'view', 'matrix', 'human', 'people', 'one', 'started', 'war', 'ai', 'bad', 'thing']\n"
     ]
    }
   ],
   "source": [
    "from nltk.stem.wordnet import WordNetLemmatizer\n",
    "\n",
    "# Reduce words to their root form\n",
    "lemmed = [WordNetLemmatizer().lemmatize(w) for w in words]\n",
    "print(lemmed)"
   ]
  },
  {
   "cell_type": "code",
   "execution_count": 32,
   "metadata": {},
   "outputs": [
    {
     "name": "stdout",
     "output_type": "stream",
     "text": [
      "['first', 'time', 'see', 'second', 'renaissance', 'may', 'look', 'bore', 'look', 'least', 'twice', 'definitely', 'watch', 'part', '2', 'change', 'view', 'matrix', 'human', 'people', 'one', 'start', 'war', 'ai', 'bad', 'thing']\n"
     ]
    }
   ],
   "source": [
    "# Lemmatize verbs by specifying pos\n",
    "lemmed = [WordNetLemmatizer().lemmatize(w, pos='v') for w in lemmed]\n",
    "print(lemmed)"
   ]
  },
  {
   "cell_type": "code",
   "execution_count": null,
   "metadata": {},
   "outputs": [],
   "source": []
  }
 ],
 "metadata": {
  "kernelspec": {
   "display_name": "Python 3",
   "language": "python",
   "name": "python3"
  },
  "language_info": {
   "codemirror_mode": {
    "name": "ipython",
    "version": 3
   },
   "file_extension": ".py",
   "mimetype": "text/x-python",
   "name": "python",
   "nbconvert_exporter": "python",
   "pygments_lexer": "ipython3",
   "version": "3.7.10"
  }
 },
 "nbformat": 4,
 "nbformat_minor": 2
}
